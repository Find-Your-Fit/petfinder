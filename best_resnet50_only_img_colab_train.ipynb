{
  "cells": [
    {
      "cell_type": "code",
      "execution_count": 15,
      "metadata": {
        "id": "cUV-SzokWvCM"
      },
      "outputs": [],
      "source": [
        "!pip install --upgrade --force-reinstall --no-deps kaggle -qqq\n",
        "!pip install torchsummaryX -qqq\n",
        "!pip install colorama -qqq\n",
        "!pip install wandb -qqq"
      ]
    },
    {
      "cell_type": "code",
      "execution_count": 16,
      "metadata": {
        "colab": {
          "base_uri": "https://localhost:8080/"
        },
        "id": "A3vBseOAYp3O",
        "outputId": "93ef750f-2ae2-47fd-b825-17f534b26672"
      },
      "outputs": [
        {
          "output_type": "stream",
          "name": "stdout",
          "text": [
            "Mounted at /content/drive\n"
          ]
        }
      ],
      "source": [
        "from google.colab import drive\n",
        "drive.mount('/content/drive')"
      ]
    },
    {
      "cell_type": "code",
      "execution_count": 17,
      "metadata": {
        "id": "14ANEhQTWzJS"
      },
      "outputs": [],
      "source": [
        "!mkdir /root/.kaggle/\n",
        "!cp \"/content/drive/MyDrive/Colab Notebooks/kaggle/kaggle.json\" /root/.kaggle/\n",
        "!chmod 600 /root/.kaggle/kaggle.json"
      ]
    },
    {
      "cell_type": "code",
      "execution_count": 18,
      "metadata": {
        "id": "kmC3DxHxp1Lj"
      },
      "outputs": [],
      "source": [
        "# !rm -rf /content/dataset\n",
        "!mkdir /content/dataset"
      ]
    },
    {
      "cell_type": "code",
      "execution_count": 19,
      "metadata": {
        "colab": {
          "base_uri": "https://localhost:8080/"
        },
        "id": "Hn1oADF_e-e_",
        "outputId": "4e0e43d9-92b3-42be-bf59-c2bddb8850d0"
      },
      "outputs": [
        {
          "output_type": "stream",
          "name": "stdout",
          "text": [
            "Downloading petfinder-pawpularity-score.zip to /content/dataset\n",
            " 99% 971M/983M [00:37<00:00, 30.3MB/s]\n",
            "100% 983M/983M [00:37<00:00, 27.2MB/s]\n"
          ]
        }
      ],
      "source": [
        "!kaggle competitions download petfinder-pawpularity-score -p /content/dataset"
      ]
    },
    {
      "cell_type": "code",
      "execution_count": 20,
      "metadata": {
        "id": "xpb6CGDJnbrs"
      },
      "outputs": [],
      "source": [
        "!unzip  -n -qqq dataset/petfinder-pawpularity-score.zip -d dataset/"
      ]
    },
    {
      "cell_type": "code",
      "execution_count": 21,
      "metadata": {
        "colab": {
          "base_uri": "https://localhost:8080/"
        },
        "id": "JPBFklI_pm1r",
        "outputId": "76095edc-1461-444e-8bab-c8c93769a5ad"
      },
      "outputs": [
        {
          "output_type": "stream",
          "name": "stdout",
          "text": [
            "9912\n"
          ]
        }
      ],
      "source": [
        "import os\n",
        "files = os.listdir(\"/content/dataset/train\")\n",
        "print(len(files))"
      ]
    },
    {
      "cell_type": "code",
      "execution_count": 22,
      "metadata": {
        "id": "d1PAM4iXm8so"
      },
      "outputs": [],
      "source": [
        "import os\n",
        "import gc\n",
        "import glob\n",
        "\n",
        "from skimage import io\n",
        "import matplotlib.pyplot as plt\n",
        "\n",
        "import numpy as np\n",
        "import pandas as pd\n",
        "from sklearn.metrics import mean_squared_error\n",
        "\n",
        "import torch\n",
        "import torch.nn as nn\n",
        "import torch.optim as optim\n",
        "\n",
        "from torch.utils.data import Dataset, DataLoader, random_split\n",
        "\n",
        "import torchvision \n",
        "from torchvision import transforms\n",
        "\n",
        "from PIL import Image\n",
        "from torchvision.io import read_image\n",
        "from sklearn.model_selection import StratifiedKFold\n",
        "import torchvision.models as models\n",
        "import torch.nn.functional as F\n",
        "from torchsummaryX import summary\n",
        "import torch.optim as optim\n",
        "import random\n",
        "import torch.backends.cudnn as cudnn\n",
        "from torch.optim import lr_scheduler\n",
        "\n",
        "import time\n",
        "from datetime import datetime\n",
        "from pytz import timezone\n",
        "from google.colab import output\n",
        "\n",
        "import matplotlib.pyplot as plt\n",
        "%matplotlib inline"
      ]
    },
    {
      "cell_type": "code",
      "source": [
        "from colorama import Fore, Back, Style\n",
        "c_ = Fore.CYAN\n",
        "sr_ = Style.RESET_ALL"
      ],
      "metadata": {
        "id": "SQxAD4cubfHJ"
      },
      "execution_count": 23,
      "outputs": []
    },
    {
      "cell_type": "markdown",
      "metadata": {
        "id": "Epfh_HdesROO"
      },
      "source": [
        "# CFG"
      ]
    },
    {
      "cell_type": "code",
      "execution_count": 24,
      "metadata": {
        "id": "y-l6aRflmPPQ"
      },
      "outputs": [],
      "source": [
        "class CFG:\n",
        "    \"\"\"Config class, having params for traning & meta infomation\"\"\"\n",
        "\n",
        "    use_checkpoint = True\n",
        "    \n",
        "    epoch = 300\n",
        "    batch_size = 16\n",
        "    n_fold = 5\n",
        "    n_accumulate = 1\n",
        "    num_works = 0\n",
        "    \n",
        "    \n",
        "    # early stoping\n",
        "    patience = 30\n",
        "    delta = 0.3\n",
        "\n",
        "    # optimizer\n",
        "    weight_decay = 1e-6\n",
        "    lr = 1e-5\n",
        "\n",
        "    # scheduler\n",
        "    min_lr = 1e-6\n",
        "    T_max = 100\n",
        "\n",
        "    target_col = \"Pawpularity\"\n",
        "    use_wandb = True\n",
        "\n",
        "    seed = 42\n",
        "    project_name = \"petfinder-project\"\n",
        "    SAVEPATH = \"/content/drive/MyDrive/Colab Notebooks/petfinder/save/\"\n",
        "    DATAPATH = \"/content/dataset/\"\n",
        "\n",
        "    time = datetime.now(timezone('Asia/Seoul')).strftime('%Y-%m-%d %H_%M_%S')\n",
        "    device = torch.device(\"cuda:0\" if torch.cuda.is_available() else \"cpu\")"
      ]
    },
    {
      "cell_type": "code",
      "execution_count": 25,
      "metadata": {
        "colab": {
          "base_uri": "https://localhost:8080/",
          "height": 53
        },
        "id": "6whNFjq6nOon",
        "outputId": "df01a65f-82ba-466b-aa5f-26368eff3569"
      },
      "outputs": [
        {
          "output_type": "display_data",
          "data": {
            "text/plain": [
              "<IPython.core.display.Javascript object>"
            ],
            "application/javascript": [
              "\n",
              "        window._wandbApiKey = new Promise((resolve, reject) => {\n",
              "            function loadScript(url) {\n",
              "            return new Promise(function(resolve, reject) {\n",
              "                let newScript = document.createElement(\"script\");\n",
              "                newScript.onerror = reject;\n",
              "                newScript.onload = resolve;\n",
              "                document.body.appendChild(newScript);\n",
              "                newScript.src = url;\n",
              "            });\n",
              "            }\n",
              "            loadScript(\"https://cdn.jsdelivr.net/npm/postmate/build/postmate.min.js\").then(() => {\n",
              "            const iframe = document.createElement('iframe')\n",
              "            iframe.style.cssText = \"width:0;height:0;border:none\"\n",
              "            document.body.appendChild(iframe)\n",
              "            const handshake = new Postmate({\n",
              "                container: iframe,\n",
              "                url: 'https://wandb.ai/authorize'\n",
              "            });\n",
              "            const timeout = setTimeout(() => reject(\"Couldn't auto authenticate\"), 5000)\n",
              "            handshake.then(function(child) {\n",
              "                child.on('authorize', data => {\n",
              "                    clearTimeout(timeout)\n",
              "                    resolve(data)\n",
              "                });\n",
              "            });\n",
              "            })\n",
              "        });\n",
              "    "
            ]
          },
          "metadata": {}
        },
        {
          "output_type": "stream",
          "name": "stderr",
          "text": [
            "\u001b[34m\u001b[1mwandb\u001b[0m: Appending key for api.wandb.ai to your netrc file: /root/.netrc\n"
          ]
        }
      ],
      "source": [
        "if CFG.use_wandb:\n",
        "    import wandb\n",
        "    wandb.login()"
      ]
    },
    {
      "cell_type": "code",
      "execution_count": 26,
      "metadata": {
        "colab": {
          "base_uri": "https://localhost:8080/"
        },
        "id": "t1FaMyhym8sp",
        "outputId": "e13651be-19d9-4457-d249-c09693219c46"
      },
      "outputs": [
        {
          "output_type": "stream",
          "name": "stdout",
          "text": [
            "cuda:0\n"
          ]
        }
      ],
      "source": [
        "torch.manual_seed(CFG.seed)\n",
        "torch.cuda.manual_seed(CFG.seed)\n",
        "torch.cuda.manual_seed_all(CFG.seed)\n",
        "np.random.seed(CFG.seed)\n",
        "cudnn.benchmark = False\n",
        "cudnn.deterministic = True\n",
        "random.seed(CFG.seed)\n",
        "\n",
        "torch.backends.cudnn.deterministic = True\n",
        "torch.backends.cudnn.benchmark = False\n",
        "\n",
        "if CFG.device == 'cuda':\n",
        "    torch.cuda.manual_seed_all(CFG.seed)\n",
        "\n",
        "print(CFG.device)"
      ]
    },
    {
      "cell_type": "markdown",
      "metadata": {
        "id": "z-d7Neo_QdCh"
      },
      "source": [
        "## wandb login"
      ]
    },
    {
      "cell_type": "code",
      "source": [
        "wandb_config = dict()\n",
        "\n",
        "for key, value in CFG.__dict__.items():\n",
        "    if \"__\" not in key:\n",
        "        wandb_config[key] = value\n",
        "# wandb_config"
      ],
      "metadata": {
        "id": "FyLMm1DZaxgO"
      },
      "execution_count": 27,
      "outputs": []
    },
    {
      "cell_type": "code",
      "execution_count": 28,
      "metadata": {
        "colab": {
          "base_uri": "https://localhost:8080/",
          "height": 88
        },
        "id": "pQK-I3HbQbzQ",
        "outputId": "cdaa6445-bd11-4278-c980-d4441a47c8b1"
      },
      "outputs": [
        {
          "output_type": "stream",
          "name": "stderr",
          "text": [
            "\u001b[34m\u001b[1mwandb\u001b[0m: Currently logged in as: \u001b[33mfindyourfit\u001b[0m (use `wandb login --relogin` to force relogin)\n"
          ]
        },
        {
          "output_type": "display_data",
          "data": {
            "text/plain": [
              "<IPython.core.display.HTML object>"
            ],
            "text/html": [
              "Tracking run with wandb version 0.12.11"
            ]
          },
          "metadata": {}
        },
        {
          "output_type": "display_data",
          "data": {
            "text/plain": [
              "<IPython.core.display.HTML object>"
            ],
            "text/html": [
              "Run data is saved locally in <code>/content/wandb/run-20220318_005129-2o981t72</code>"
            ]
          },
          "metadata": {}
        },
        {
          "output_type": "display_data",
          "data": {
            "text/plain": [
              "<IPython.core.display.HTML object>"
            ],
            "text/html": [
              "Syncing run <strong><a href=\"https://wandb.ai/findyourfit/petfinder-project/runs/2o981t72\" target=\"_blank\">2022-03-18 09_51_24</a></strong> to <a href=\"https://wandb.ai/findyourfit/petfinder-project\" target=\"_blank\">Weights & Biases</a> (<a href=\"https://wandb.me/run\" target=\"_blank\">docs</a>)<br/>"
            ]
          },
          "metadata": {}
        }
      ],
      "source": [
        "if CFG.use_wandb:\n",
        "    run = wandb.init(name = CFG.time, project=CFG.project_name, entity=\"findyourfit\",config = wandb_config)"
      ]
    },
    {
      "cell_type": "code",
      "execution_count": 29,
      "metadata": {
        "id": "RcOkAGSom8sp"
      },
      "outputs": [],
      "source": [
        "train_images = os.listdir(CFG.DATAPATH+\"train/\")\n",
        "test_images = os.listdir(CFG.DATAPATH+\"test/\")"
      ]
    },
    {
      "cell_type": "code",
      "execution_count": 30,
      "metadata": {
        "id": "BPwtVlIzm8sv"
      },
      "outputs": [],
      "source": [
        "# df = pd.read_csv(\"../input/petfinder-pawpularity-score/train.csv\")\n",
        "df = pd.read_csv(CFG.DATAPATH+\"train.csv\")"
      ]
    },
    {
      "cell_type": "code",
      "execution_count": 31,
      "metadata": {
        "colab": {
          "base_uri": "https://localhost:8080/",
          "height": 206
        },
        "id": "lxah8Jokm8sv",
        "outputId": "64547b47-3698-4445-cf1e-d3f6dcbed983"
      },
      "outputs": [
        {
          "output_type": "execute_result",
          "data": {
            "text/plain": [
              "                                 Id  Pawpularity\n",
              "0  0007de18844b0dbbb5e1f607da0606e0           63\n",
              "1  0009c66b9439883ba2750fb825e1d7db           42\n",
              "2  0013fd999caf9a3efe1352ca1b0d937e           28\n",
              "3  0018df346ac9c1d8413cfcc888ca8246           15\n",
              "4  001dc955e10590d3ca4673f034feeef2           72"
            ],
            "text/html": [
              "\n",
              "  <div id=\"df-92f81481-a589-4198-aa4f-be17322d0f40\">\n",
              "    <div class=\"colab-df-container\">\n",
              "      <div>\n",
              "<style scoped>\n",
              "    .dataframe tbody tr th:only-of-type {\n",
              "        vertical-align: middle;\n",
              "    }\n",
              "\n",
              "    .dataframe tbody tr th {\n",
              "        vertical-align: top;\n",
              "    }\n",
              "\n",
              "    .dataframe thead th {\n",
              "        text-align: right;\n",
              "    }\n",
              "</style>\n",
              "<table border=\"1\" class=\"dataframe\">\n",
              "  <thead>\n",
              "    <tr style=\"text-align: right;\">\n",
              "      <th></th>\n",
              "      <th>Id</th>\n",
              "      <th>Pawpularity</th>\n",
              "    </tr>\n",
              "  </thead>\n",
              "  <tbody>\n",
              "    <tr>\n",
              "      <th>0</th>\n",
              "      <td>0007de18844b0dbbb5e1f607da0606e0</td>\n",
              "      <td>63</td>\n",
              "    </tr>\n",
              "    <tr>\n",
              "      <th>1</th>\n",
              "      <td>0009c66b9439883ba2750fb825e1d7db</td>\n",
              "      <td>42</td>\n",
              "    </tr>\n",
              "    <tr>\n",
              "      <th>2</th>\n",
              "      <td>0013fd999caf9a3efe1352ca1b0d937e</td>\n",
              "      <td>28</td>\n",
              "    </tr>\n",
              "    <tr>\n",
              "      <th>3</th>\n",
              "      <td>0018df346ac9c1d8413cfcc888ca8246</td>\n",
              "      <td>15</td>\n",
              "    </tr>\n",
              "    <tr>\n",
              "      <th>4</th>\n",
              "      <td>001dc955e10590d3ca4673f034feeef2</td>\n",
              "      <td>72</td>\n",
              "    </tr>\n",
              "  </tbody>\n",
              "</table>\n",
              "</div>\n",
              "      <button class=\"colab-df-convert\" onclick=\"convertToInteractive('df-92f81481-a589-4198-aa4f-be17322d0f40')\"\n",
              "              title=\"Convert this dataframe to an interactive table.\"\n",
              "              style=\"display:none;\">\n",
              "        \n",
              "  <svg xmlns=\"http://www.w3.org/2000/svg\" height=\"24px\"viewBox=\"0 0 24 24\"\n",
              "       width=\"24px\">\n",
              "    <path d=\"M0 0h24v24H0V0z\" fill=\"none\"/>\n",
              "    <path d=\"M18.56 5.44l.94 2.06.94-2.06 2.06-.94-2.06-.94-.94-2.06-.94 2.06-2.06.94zm-11 1L8.5 8.5l.94-2.06 2.06-.94-2.06-.94L8.5 2.5l-.94 2.06-2.06.94zm10 10l.94 2.06.94-2.06 2.06-.94-2.06-.94-.94-2.06-.94 2.06-2.06.94z\"/><path d=\"M17.41 7.96l-1.37-1.37c-.4-.4-.92-.59-1.43-.59-.52 0-1.04.2-1.43.59L10.3 9.45l-7.72 7.72c-.78.78-.78 2.05 0 2.83L4 21.41c.39.39.9.59 1.41.59.51 0 1.02-.2 1.41-.59l7.78-7.78 2.81-2.81c.8-.78.8-2.07 0-2.86zM5.41 20L4 18.59l7.72-7.72 1.47 1.35L5.41 20z\"/>\n",
              "  </svg>\n",
              "      </button>\n",
              "      \n",
              "  <style>\n",
              "    .colab-df-container {\n",
              "      display:flex;\n",
              "      flex-wrap:wrap;\n",
              "      gap: 12px;\n",
              "    }\n",
              "\n",
              "    .colab-df-convert {\n",
              "      background-color: #E8F0FE;\n",
              "      border: none;\n",
              "      border-radius: 50%;\n",
              "      cursor: pointer;\n",
              "      display: none;\n",
              "      fill: #1967D2;\n",
              "      height: 32px;\n",
              "      padding: 0 0 0 0;\n",
              "      width: 32px;\n",
              "    }\n",
              "\n",
              "    .colab-df-convert:hover {\n",
              "      background-color: #E2EBFA;\n",
              "      box-shadow: 0px 1px 2px rgba(60, 64, 67, 0.3), 0px 1px 3px 1px rgba(60, 64, 67, 0.15);\n",
              "      fill: #174EA6;\n",
              "    }\n",
              "\n",
              "    [theme=dark] .colab-df-convert {\n",
              "      background-color: #3B4455;\n",
              "      fill: #D2E3FC;\n",
              "    }\n",
              "\n",
              "    [theme=dark] .colab-df-convert:hover {\n",
              "      background-color: #434B5C;\n",
              "      box-shadow: 0px 1px 3px 1px rgba(0, 0, 0, 0.15);\n",
              "      filter: drop-shadow(0px 1px 2px rgba(0, 0, 0, 0.3));\n",
              "      fill: #FFFFFF;\n",
              "    }\n",
              "  </style>\n",
              "\n",
              "      <script>\n",
              "        const buttonEl =\n",
              "          document.querySelector('#df-92f81481-a589-4198-aa4f-be17322d0f40 button.colab-df-convert');\n",
              "        buttonEl.style.display =\n",
              "          google.colab.kernel.accessAllowed ? 'block' : 'none';\n",
              "\n",
              "        async function convertToInteractive(key) {\n",
              "          const element = document.querySelector('#df-92f81481-a589-4198-aa4f-be17322d0f40');\n",
              "          const dataTable =\n",
              "            await google.colab.kernel.invokeFunction('convertToInteractive',\n",
              "                                                     [key], {});\n",
              "          if (!dataTable) return;\n",
              "\n",
              "          const docLinkHtml = 'Like what you see? Visit the ' +\n",
              "            '<a target=\"_blank\" href=https://colab.research.google.com/notebooks/data_table.ipynb>data table notebook</a>'\n",
              "            + ' to learn more about interactive tables.';\n",
              "          element.innerHTML = '';\n",
              "          dataTable['output_type'] = 'display_data';\n",
              "          await google.colab.output.renderOutput(dataTable, element);\n",
              "          const docLink = document.createElement('div');\n",
              "          docLink.innerHTML = docLinkHtml;\n",
              "          element.appendChild(docLink);\n",
              "        }\n",
              "      </script>\n",
              "    </div>\n",
              "  </div>\n",
              "  "
            ]
          },
          "metadata": {},
          "execution_count": 31
        }
      ],
      "source": [
        "df[[\"Id\",\"Pawpularity\"]].head()"
      ]
    },
    {
      "cell_type": "code",
      "execution_count": 32,
      "metadata": {
        "colab": {
          "base_uri": "https://localhost:8080/"
        },
        "id": "83cP4JK9m8sv",
        "outputId": "f3307670-77ee-431c-8330-bc29bbddc0af"
      },
      "outputs": [
        {
          "output_type": "execute_result",
          "data": {
            "text/plain": [
              "(720, 405, 3)"
            ]
          },
          "metadata": {},
          "execution_count": 32
        }
      ],
      "source": [
        "io.imread(CFG.DATAPATH+\"train/\"+df[\"Id\"].values[0]+\".jpg\").shape"
      ]
    },
    {
      "cell_type": "markdown",
      "metadata": {
        "id": "mVV__caGm8sp"
      },
      "source": [
        "# Transform"
      ]
    },
    {
      "cell_type": "code",
      "execution_count": 33,
      "metadata": {
        "id": "K0muJYXzm8sv"
      },
      "outputs": [],
      "source": [
        "transform_train = transforms.Compose([\n",
        "    transforms.Resize((224, 224)), # 이미지 resize\n",
        "    transforms.RandomCrop(124), # 이미지를 랜덤으로 크롭\n",
        "    transforms.ColorJitter(brightness=0.2, contrast=0.2, saturation=0.2, hue=0.2), # 이미지 지터링(밝기, 대조, 채비, 색조)\n",
        "    transforms.RandomHorizontalFlip(p = 1), # p확률로 이미지 좌우반전\n",
        "    transforms.RandomVerticalFlip(p = 1), # p확률로 상하반전\n",
        "    transforms.ToTensor(),\n",
        "    transforms.Normalize((0.485, 0.456, 0.406), (0.229, 0.224, 0.225))\n",
        "])\n",
        "\n",
        "transform_test = transforms.Compose([\n",
        "    transforms.Resize((224, 224)), \n",
        "    transforms.ToTensor(),\n",
        "    transforms.Normalize((0.485, 0.456, 0.406), (0.229, 0.224, 0.225))\n",
        "])"
      ]
    },
    {
      "cell_type": "markdown",
      "source": [
        "# K-fold"
      ],
      "metadata": {
        "id": "kaImAWcmHLqx"
      }
    },
    {
      "cell_type": "code",
      "execution_count": 34,
      "metadata": {
        "id": "oCYBdrkgHM_I"
      },
      "outputs": [],
      "source": [
        "df = pd.read_csv(CFG.DATAPATH+\"train.csv\")\n",
        "# train = train_df.sample(n=1000, random_state=CFG.seed).reset_index(drop=True)"
      ]
    },
    {
      "cell_type": "code",
      "execution_count": 35,
      "metadata": {
        "id": "1a0Kiv9UHM_J"
      },
      "outputs": [],
      "source": [
        "num_bins = int(np.floor(1 + np.log2(len(df))))\n",
        "df[\"bins\"] = pd.cut(df[CFG.target_col], bins=num_bins, labels=False)"
      ]
    },
    {
      "cell_type": "code",
      "execution_count": 36,
      "metadata": {
        "id": "N751rbAjHM_J"
      },
      "outputs": [],
      "source": [
        "Fold = StratifiedKFold(n_splits=CFG.n_fold,shuffle=True,random_state=CFG.seed)"
      ]
    },
    {
      "cell_type": "code",
      "execution_count": 37,
      "metadata": {
        "id": "JrJFGqI0HM_J"
      },
      "outputs": [],
      "source": [
        "for n,(train_index, val_index) in enumerate(Fold.split(df,df[\"bins\"])):\n",
        "    df.loc[val_index,'fold'] = int(n)\n",
        "df[\"fold\"] = df[\"fold\"].astype(int)"
      ]
    },
    {
      "cell_type": "markdown",
      "metadata": {
        "id": "_JEu8nDQ732j"
      },
      "source": [
        "# DATA CLASS"
      ]
    },
    {
      "cell_type": "code",
      "execution_count": 38,
      "metadata": {
        "id": "JGbtsUGD6Rtg"
      },
      "outputs": [],
      "source": [
        "from tqdm.auto import tqdm\n",
        "# 이미지 로딩 -> resize\n",
        "class CuteDataset(Dataset):\n",
        "    def __init__(self,root_dir,df,transform=None,fold=None):\n",
        "        \"\"\"\n",
        "            image_dir, csv_dir, transform = None\n",
        "        \"\"\"\n",
        "        self.root_dir = root_dir\n",
        "        \n",
        "        if transform == None:\n",
        "            self.transform = transforms.Compose([transforms.ToTensor()])\n",
        "        else:\n",
        "            self.transform = transform\n",
        "\n",
        "        self.df = df\n",
        "        self.ids = self.df[\"Id\"]\n",
        "        self.scores = self.df[\"Pawpularity\"]\n",
        "        \n",
        "        self.images = []\n",
        "        for _id in tqdm(self.ids):\n",
        "            img = Image.open(root_dir+_id+\".jpg\")\n",
        "            img = img.resize((224,224))\n",
        "            self.images.append(img)    \n",
        "\n",
        "    # def __len__(self):\n",
        "    #     return len(self.images)\n",
        "        \n",
        "\n",
        "\n",
        "\n",
        "    # def __getitem__(self, idx):        \n",
        "    #     images = self.transform(self.images[idx])\n",
        "\n",
        "        \n",
        "    #     return images, self.scores[idx] #, self.Pawpularity    "
      ]
    },
    {
      "cell_type": "markdown",
      "metadata": {
        "id": "pQmKGFG8lyjC"
      },
      "source": [
        "## Make KFold"
      ]
    },
    {
      "cell_type": "code",
      "execution_count": 39,
      "metadata": {
        "id": "Dzphh98D1W6w"
      },
      "outputs": [],
      "source": [
        "train_df = pd.read_csv(CFG.DATAPATH+\"train.csv\")\n",
        "# train = train_df.sample(n=1000, random_state=CFG.seed).reset_index(drop=True)"
      ]
    },
    {
      "cell_type": "code",
      "execution_count": 40,
      "metadata": {
        "id": "pYIqxjy61Fg4"
      },
      "outputs": [],
      "source": [
        "num_bins = int(np.floor(1 + np.log2(len(train_df))))\n",
        "train_df[\"bins\"] = pd.cut(train_df[CFG.target_col], bins=num_bins, labels=False)"
      ]
    },
    {
      "cell_type": "code",
      "execution_count": 41,
      "metadata": {
        "id": "NXknScWOl7tK"
      },
      "outputs": [],
      "source": [
        "Fold = StratifiedKFold(n_splits=CFG.n_fold,shuffle=True,random_state=CFG.seed)"
      ]
    },
    {
      "cell_type": "code",
      "execution_count": 42,
      "metadata": {
        "id": "RSOiVSMKn0gp"
      },
      "outputs": [],
      "source": [
        "for n,(train_index, val_index) in enumerate(Fold.split(train_df,train_df[\"bins\"])):\n",
        "    train_df.loc[val_index,'fold'] = int(n)\n",
        "train_df[\"fold\"] = train_df[\"fold\"].astype(int)"
      ]
    },
    {
      "cell_type": "code",
      "execution_count": 43,
      "metadata": {
        "id": "T3Prv35q2L6h"
      },
      "outputs": [],
      "source": [
        "# display(train.groupby([\"fold\",\"bins\"]).size())"
      ]
    },
    {
      "cell_type": "code",
      "execution_count": 44,
      "metadata": {
        "id": "qfDt9L276DIg"
      },
      "outputs": [],
      "source": [
        "class FoldDataset(Dataset):\n",
        "    def __init__(self,DataClass,fold=None,transform=None):\n",
        "        \"\"\"\n",
        "        fold = None -> total\n",
        "        fold != None &\n",
        "            isTraining = True -> return n-1 fold\n",
        "            isTraining = False -> return 1 fold  # return validation set\n",
        "\n",
        "        \"\"\"        \n",
        "        if transform is None:\n",
        "            self.transform = transforms.Compose([transforms.ToTensor()])\n",
        "        else:\n",
        "            self.transform = transform\n",
        "\n",
        "        self.df = DataClass.df\n",
        "        self.ids = self.df[\"Id\"]\n",
        "        self.scores = self.df[\"Pawpularity\"]\n",
        "        self.idx = self.df[self.df[\"fold\"] == fold].index\n",
        "\n",
        "        self.images = [DataClass.images[idx] for idx in self.idx]\n",
        "        \n",
        "        # image -> 원본 에서 idx 필터링\n",
        "        # 라벨 -> 필터링된 df -> 한번더 필터링 \n",
        "        # = 에러\n",
        "        \n",
        "    \n",
        "    def __len__(self):\n",
        "        return len(self.idx)\n",
        "    \n",
        "    def __getitem__(self, idx):        \n",
        "        # images = self.transform(self.images[idx])\n",
        "        images = self.transform(self.images[idx])\n",
        "        scores = self.scores[idx]\n",
        "\n",
        "        \n",
        "        return images, scores #, self.Pawpularity\n",
        "                \n",
        "        \n",
        "        "
      ]
    },
    {
      "cell_type": "code",
      "execution_count": 45,
      "metadata": {
        "colab": {
          "base_uri": "https://localhost:8080/",
          "height": 49,
          "referenced_widgets": [
            "04067d6a49464350a7aade529ead2548",
            "4a19de09118b41c995cdc0d36a987b20",
            "e37f504005e5411cb605de419d22cfc8",
            "11861587f4ed436f901b8d3e51e2d067",
            "620a7276bba240eeb01b12fe0e97b16a",
            "3c7cb29dea954ba393ef53c43c5893f0",
            "5c79653fdf564c1cb901e775bd9074e4",
            "c1d8446ceacc441da0b2bdc04e529dc7",
            "cee86384be29465a9a8a2c3dd5fcbb95",
            "80fee8c999854ea9b853b595df1164a4",
            "34e5065488b54528996af19c83abe296"
          ]
        },
        "id": "fmkOzCf_m8sw",
        "outputId": "5a5e7c7a-a9f3-414e-a61d-8b3d8040e225"
      },
      "outputs": [
        {
          "output_type": "display_data",
          "data": {
            "text/plain": [
              "  0%|          | 0/9912 [00:00<?, ?it/s]"
            ],
            "application/vnd.jupyter.widget-view+json": {
              "version_major": 2,
              "version_minor": 0,
              "model_id": "04067d6a49464350a7aade529ead2548"
            }
          },
          "metadata": {}
        }
      ],
      "source": [
        "train_dataset = CuteDataset(root_dir=CFG.DATAPATH+\"train/\", df = df,transform=transform_train)"
      ]
    },
    {
      "cell_type": "markdown",
      "metadata": {
        "id": "XrMd2MstXMna"
      },
      "source": [
        "# View Target's distribution"
      ]
    },
    {
      "cell_type": "code",
      "execution_count": 46,
      "metadata": {
        "colab": {
          "base_uri": "https://localhost:8080/",
          "height": 318
        },
        "id": "zOC0ya8SXMLy",
        "outputId": "83e69555-9acb-41de-a8a8-9d34a88ec939"
      },
      "outputs": [
        {
          "output_type": "execute_result",
          "data": {
            "text/plain": [
              "array([[<matplotlib.axes._subplots.AxesSubplot object at 0x7f81a43b5710>]],\n",
              "      dtype=object)"
            ]
          },
          "metadata": {},
          "execution_count": 46
        },
        {
          "output_type": "display_data",
          "data": {
            "text/plain": [
              "<Figure size 432x288 with 1 Axes>"
            ],
            "image/png": "[encoded data removed]"
          },
          "metadata": {
            "needs_background": "light"
          }
        }
      ],
      "source": [
        "train_df[[\"Pawpularity\"]].hist()"
      ]
    },
    {
      "cell_type": "code",
      "execution_count": 47,
      "metadata": {
        "id": "DddXv_0XXmyS"
      },
      "outputs": [],
      "source": [
        "train_log = np.log2(train_df[\"Pawpularity\"])"
      ]
    },
    {
      "cell_type": "code",
      "execution_count": 48,
      "metadata": {
        "colab": {
          "base_uri": "https://localhost:8080/",
          "height": 265
        },
        "id": "p9GeP35sXzRY",
        "outputId": "be6619fe-0d91-4782-cca0-8485cbabb8c1"
      },
      "outputs": [
        {
          "output_type": "display_data",
          "data": {
            "text/plain": [
              "<Figure size 432x288 with 1 Axes>"
            ],
            "image/png": "[encoded data removed]"
          },
          "metadata": {
            "needs_background": "light"
          }
        }
      ],
      "source": [
        "plt.hist(train_log)\n",
        "plt.show()"
      ]
    },
    {
      "cell_type": "code",
      "execution_count": 49,
      "metadata": {
        "colab": {
          "base_uri": "https://localhost:8080/"
        },
        "id": "5dtv0aLlYTYZ",
        "outputId": "656cf182-0581-4d3d-a885-772724b59228"
      },
      "outputs": [
        {
          "output_type": "stream",
          "name": "stdout",
          "text": [
            "왜도 :  -1.3735703243811932\n",
            "첨도 :  4.430919737645768\n"
          ]
        }
      ],
      "source": [
        "from scipy.stats import skew, kurtosis\n",
        "\n",
        "# 왜도\n",
        "print(\"왜도 : \", skew(train_log))\n",
        "\n",
        "# 첨도\n",
        "print(\"첨도 : \", kurtosis(train_log))"
      ]
    },
    {
      "cell_type": "markdown",
      "metadata": {
        "id": "b8xyjlgUm8sx"
      },
      "source": [
        "# Make model \n",
        "\n",
        "자세한 설명 from [here](https://gaussian37.github.io/dl-concept-resnet/)"
      ]
    },
    {
      "cell_type": "markdown",
      "metadata": {
        "id": "SzJqwoHZm8sx"
      },
      "source": [
        "- identity : 입력을 출력과 더해주는 형태\n",
        "    - skip connection의 구조로 feature를 추출하기 전 후를 더하는 특징"
      ]
    },
    {
      "cell_type": "code",
      "execution_count": 51,
      "metadata": {
        "colab": {
          "base_uri": "https://localhost:8080/",
          "height": 67,
          "referenced_widgets": [
            "9dc12cdc8621427fbb4f9dd650143348",
            "cf4b3d53d4024c838348152afb90c9f6",
            "ef42c06e32dd46cf81d28cbfb25f08c4",
            "be1d08cbf85b40519ba2b6749a90b03c",
            "97abbec6fc594f12b3de849ddcc32027",
            "c518bbc0c7784bdcbe379b4081e4dfa7",
            "132138ce467948389b99be9cabf26cf3",
            "c367f30057ef4a76a5c362d16f28947a",
            "f9ba979249834eef90b95de173a5e912",
            "7e24122f6ec44ee78a2b13141823d3c6",
            "cf44dfccfe634079b4d80611e3f1100a"
          ]
        },
        "id": "xD8Oxn8jm8sx",
        "outputId": "5491bc0b-8bb4-47d8-b411-61d87c134cd6"
      },
      "outputs": [
        {
          "output_type": "stream",
          "name": "stderr",
          "text": [
            "Downloading: \"https://download.pytorch.org/models/resnet50-0676ba61.pth\" to /root/.cache/torch/hub/checkpoints/resnet50-0676ba61.pth\n"
          ]
        },
        {
          "output_type": "display_data",
          "data": {
            "text/plain": [
              "  0%|          | 0.00/97.8M [00:00<?, ?B/s]"
            ],
            "application/vnd.jupyter.widget-view+json": {
              "version_major": 2,
              "version_minor": 0,
              "model_id": "9dc12cdc8621427fbb4f9dd650143348"
            }
          },
          "metadata": {}
        }
      ],
      "source": [
        "model = models.resnet50(pretrained=True)\n",
        "model.to(CFG.device)\n",
        "\n",
        "\n",
        "model.fc = nn.Linear(2048,1,bias=True)"
      ]
    },
    {
      "cell_type": "code",
      "execution_count": 52,
      "metadata": {
        "id": "gwWyQYtAeCpJ"
      },
      "outputs": [],
      "source": [
        "model_summary = summary(model.to(\"cuda\"),torch.zeros((1,3,224,224),dtype = torch.float).to(\"cuda\"))\n",
        "output.clear()"
      ]
    },
    {
      "cell_type": "code",
      "execution_count": 53,
      "metadata": {
        "colab": {
          "base_uri": "https://localhost:8080/",
          "height": 455
        },
        "id": "pZXqEz6HhT0R",
        "outputId": "ffdc4c1b-a922-4061-f156-8a2498f3e82e"
      },
      "outputs": [
        {
          "output_type": "execute_result",
          "data": {
            "text/plain": [
              "                                   Kernel Shape       Output Shape     Params  \\\n",
              "Layer                                                                           \n",
              "0_conv1                           [3, 64, 7, 7]  [1, 64, 112, 112]     9408.0   \n",
              "1_bn1                                      [64]  [1, 64, 112, 112]      128.0   \n",
              "2_relu                                        -  [1, 64, 112, 112]        NaN   \n",
              "3_maxpool                                     -    [1, 64, 56, 56]        NaN   \n",
              "4_layer1.0.Conv2d_conv1          [64, 64, 1, 1]    [1, 64, 56, 56]     4096.0   \n",
              "...                                         ...                ...        ...   \n",
              "153_layer4.2.Conv2d_conv3     [512, 2048, 1, 1]    [1, 2048, 7, 7]  1048576.0   \n",
              "154_layer4.2.BatchNorm2d_bn3             [2048]    [1, 2048, 7, 7]     4096.0   \n",
              "155_layer4.2.ReLU_relu                        -    [1, 2048, 7, 7]        NaN   \n",
              "156_avgpool                                   -    [1, 2048, 1, 1]        NaN   \n",
              "157_fc                                [2048, 1]             [1, 1]     2049.0   \n",
              "\n",
              "                                Mult-Adds  \n",
              "Layer                                      \n",
              "0_conv1                       118013952.0  \n",
              "1_bn1                                64.0  \n",
              "2_relu                                NaN  \n",
              "3_maxpool                             NaN  \n",
              "4_layer1.0.Conv2d_conv1        12845056.0  \n",
              "...                                   ...  \n",
              "153_layer4.2.Conv2d_conv3      51380224.0  \n",
              "154_layer4.2.BatchNorm2d_bn3       2048.0  \n",
              "155_layer4.2.ReLU_relu                NaN  \n",
              "156_avgpool                           NaN  \n",
              "157_fc                             2048.0  \n",
              "\n",
              "[158 rows x 4 columns]"
            ],
            "text/html": [
              "\n",
              "  <div id=\"df-125977c8-d6af-4a76-b381-837c2e935029\">\n",
              "    <div class=\"colab-df-container\">\n",
              "      <div>\n",
              "<style scoped>\n",
              "    .dataframe tbody tr th:only-of-type {\n",
              "        vertical-align: middle;\n",
              "    }\n",
              "\n",
              "    .dataframe tbody tr th {\n",
              "        vertical-align: top;\n",
              "    }\n",
              "\n",
              "    .dataframe thead th {\n",
              "        text-align: right;\n",
              "    }\n",
              "</style>\n",
              "<table border=\"1\" class=\"dataframe\">\n",
              "  <thead>\n",
              "    <tr style=\"text-align: right;\">\n",
              "      <th></th>\n",
              "      <th>Kernel Shape</th>\n",
              "      <th>Output Shape</th>\n",
              "      <th>Params</th>\n",
              "      <th>Mult-Adds</th>\n",
              "    </tr>\n",
              "    <tr>\n",
              "      <th>Layer</th>\n",
              "      <th></th>\n",
              "      <th></th>\n",
              "      <th></th>\n",
              "      <th></th>\n",
              "    </tr>\n",
              "  </thead>\n",
              "  <tbody>\n",
              "    <tr>\n",
              "      <th>0_conv1</th>\n",
              "      <td>[3, 64, 7, 7]</td>\n",
              "      <td>[1, 64, 112, 112]</td>\n",
              "      <td>9408.0</td>\n",
              "      <td>118013952.0</td>\n",
              "    </tr>\n",
              "    <tr>\n",
              "      <th>1_bn1</th>\n",
              "      <td>[64]</td>\n",
              "      <td>[1, 64, 112, 112]</td>\n",
              "      <td>128.0</td>\n",
              "      <td>64.0</td>\n",
              "    </tr>\n",
              "    <tr>\n",
              "      <th>2_relu</th>\n",
              "      <td>-</td>\n",
              "      <td>[1, 64, 112, 112]</td>\n",
              "      <td>NaN</td>\n",
              "      <td>NaN</td>\n",
              "    </tr>\n",
              "    <tr>\n",
              "      <th>3_maxpool</th>\n",
              "      <td>-</td>\n",
              "      <td>[1, 64, 56, 56]</td>\n",
              "      <td>NaN</td>\n",
              "      <td>NaN</td>\n",
              "    </tr>\n",
              "    <tr>\n",
              "      <th>4_layer1.0.Conv2d_conv1</th>\n",
              "      <td>[64, 64, 1, 1]</td>\n",
              "      <td>[1, 64, 56, 56]</td>\n",
              "      <td>4096.0</td>\n",
              "      <td>12845056.0</td>\n",
              "    </tr>\n",
              "    <tr>\n",
              "      <th>...</th>\n",
              "      <td>...</td>\n",
              "      <td>...</td>\n",
              "      <td>...</td>\n",
              "      <td>...</td>\n",
              "    </tr>\n",
              "    <tr>\n",
              "      <th>153_layer4.2.Conv2d_conv3</th>\n",
              "      <td>[512, 2048, 1, 1]</td>\n",
              "      <td>[1, 2048, 7, 7]</td>\n",
              "      <td>1048576.0</td>\n",
              "      <td>51380224.0</td>\n",
              "    </tr>\n",
              "    <tr>\n",
              "      <th>154_layer4.2.BatchNorm2d_bn3</th>\n",
              "      <td>[2048]</td>\n",
              "      <td>[1, 2048, 7, 7]</td>\n",
              "      <td>4096.0</td>\n",
              "      <td>2048.0</td>\n",
              "    </tr>\n",
              "    <tr>\n",
              "      <th>155_layer4.2.ReLU_relu</th>\n",
              "      <td>-</td>\n",
              "      <td>[1, 2048, 7, 7]</td>\n",
              "      <td>NaN</td>\n",
              "      <td>NaN</td>\n",
              "    </tr>\n",
              "    <tr>\n",
              "      <th>156_avgpool</th>\n",
              "      <td>-</td>\n",
              "      <td>[1, 2048, 1, 1]</td>\n",
              "      <td>NaN</td>\n",
              "      <td>NaN</td>\n",
              "    </tr>\n",
              "    <tr>\n",
              "      <th>157_fc</th>\n",
              "      <td>[2048, 1]</td>\n",
              "      <td>[1, 1]</td>\n",
              "      <td>2049.0</td>\n",
              "      <td>2048.0</td>\n",
              "    </tr>\n",
              "  </tbody>\n",
              "</table>\n",
              "<p>158 rows × 4 columns</p>\n",
              "</div>\n",
              "      <button class=\"colab-df-convert\" onclick=\"convertToInteractive('df-125977c8-d6af-4a76-b381-837c2e935029')\"\n",
              "              title=\"Convert this dataframe to an interactive table.\"\n",
              "              style=\"display:none;\">\n",
              "        \n",
              "  <svg xmlns=\"http://www.w3.org/2000/svg\" height=\"24px\"viewBox=\"0 0 24 24\"\n",
              "       width=\"24px\">\n",
              "    <path d=\"M0 0h24v24H0V0z\" fill=\"none\"/>\n",
              "    <path d=\"M18.56 5.44l.94 2.06.94-2.06 2.06-.94-2.06-.94-.94-2.06-.94 2.06-2.06.94zm-11 1L8.5 8.5l.94-2.06 2.06-.94-2.06-.94L8.5 2.5l-.94 2.06-2.06.94zm10 10l.94 2.06.94-2.06 2.06-.94-2.06-.94-.94-2.06-.94 2.06-2.06.94z\"/><path d=\"M17.41 7.96l-1.37-1.37c-.4-.4-.92-.59-1.43-.59-.52 0-1.04.2-1.43.59L10.3 9.45l-7.72 7.72c-.78.78-.78 2.05 0 2.83L4 21.41c.39.39.9.59 1.41.59.51 0 1.02-.2 1.41-.59l7.78-7.78 2.81-2.81c.8-.78.8-2.07 0-2.86zM5.41 20L4 18.59l7.72-7.72 1.47 1.35L5.41 20z\"/>\n",
              "  </svg>\n",
              "      </button>\n",
              "      \n",
              "  <style>\n",
              "    .colab-df-container {\n",
              "      display:flex;\n",
              "      flex-wrap:wrap;\n",
              "      gap: 12px;\n",
              "    }\n",
              "\n",
              "    .colab-df-convert {\n",
              "      background-color: #E8F0FE;\n",
              "      border: none;\n",
              "      border-radius: 50%;\n",
              "      cursor: pointer;\n",
              "      display: none;\n",
              "      fill: #1967D2;\n",
              "      height: 32px;\n",
              "      padding: 0 0 0 0;\n",
              "      width: 32px;\n",
              "    }\n",
              "\n",
              "    .colab-df-convert:hover {\n",
              "      background-color: #E2EBFA;\n",
              "      box-shadow: 0px 1px 2px rgba(60, 64, 67, 0.3), 0px 1px 3px 1px rgba(60, 64, 67, 0.15);\n",
              "      fill: #174EA6;\n",
              "    }\n",
              "\n",
              "    [theme=dark] .colab-df-convert {\n",
              "      background-color: #3B4455;\n",
              "      fill: #D2E3FC;\n",
              "    }\n",
              "\n",
              "    [theme=dark] .colab-df-convert:hover {\n",
              "      background-color: #434B5C;\n",
              "      box-shadow: 0px 1px 3px 1px rgba(0, 0, 0, 0.15);\n",
              "      filter: drop-shadow(0px 1px 2px rgba(0, 0, 0, 0.3));\n",
              "      fill: #FFFFFF;\n",
              "    }\n",
              "  </style>\n",
              "\n",
              "      <script>\n",
              "        const buttonEl =\n",
              "          document.querySelector('#df-125977c8-d6af-4a76-b381-837c2e935029 button.colab-df-convert');\n",
              "        buttonEl.style.display =\n",
              "          google.colab.kernel.accessAllowed ? 'block' : 'none';\n",
              "\n",
              "        async function convertToInteractive(key) {\n",
              "          const element = document.querySelector('#df-125977c8-d6af-4a76-b381-837c2e935029');\n",
              "          const dataTable =\n",
              "            await google.colab.kernel.invokeFunction('convertToInteractive',\n",
              "                                                     [key], {});\n",
              "          if (!dataTable) return;\n",
              "\n",
              "          const docLinkHtml = 'Like what you see? Visit the ' +\n",
              "            '<a target=\"_blank\" href=https://colab.research.google.com/notebooks/data_table.ipynb>data table notebook</a>'\n",
              "            + ' to learn more about interactive tables.';\n",
              "          element.innerHTML = '';\n",
              "          dataTable['output_type'] = 'display_data';\n",
              "          await google.colab.output.renderOutput(dataTable, element);\n",
              "          const docLink = document.createElement('div');\n",
              "          docLink.innerHTML = docLinkHtml;\n",
              "          element.appendChild(docLink);\n",
              "        }\n",
              "      </script>\n",
              "    </div>\n",
              "  </div>\n",
              "  "
            ]
          },
          "metadata": {},
          "execution_count": 53
        }
      ],
      "source": [
        "model_summary"
      ]
    },
    {
      "cell_type": "code",
      "execution_count": 54,
      "metadata": {
        "colab": {
          "base_uri": "https://localhost:8080/"
        },
        "id": "7cDjdoKnhV54",
        "outputId": "6f18f2a3-1092-4ce5-cf8d-bb8f9f936570"
      },
      "outputs": [
        {
          "output_type": "execute_result",
          "data": {
            "text/plain": [
              "(23510081.0, 4087164864.0)"
            ]
          },
          "metadata": {},
          "execution_count": 54
        }
      ],
      "source": [
        "model_summary[\"Params\"].sum(), model_summary[\"Mult-Adds\"].sum()"
      ]
    },
    {
      "cell_type": "markdown",
      "metadata": {
        "id": "vzf5TbnHhuA5"
      },
      "source": [
        "- resnet 50\n",
        "    - parameter 개수 : 약 2400만 ,23510081\n",
        "    - 연산 횟수 : 약 41억 , 4087164864"
      ]
    },
    {
      "cell_type": "markdown",
      "metadata": {
        "id": "92vcJPO000Hh"
      },
      "source": [
        "## Model freezing\n",
        "- 2048 -> 1 의 분류기는 너무 단순해서 학습이 되지 않음\n",
        "    - sol 1: 전이학습한 모델의 weights를 학습 가능하도록 변경함\n",
        "    - sol 2 : 분류기를 좀 더 복잡하게 만들기 ( 규모 up, # of parameter up)\n",
        "    "
      ]
    },
    {
      "cell_type": "code",
      "execution_count": 55,
      "metadata": {
        "colab": {
          "base_uri": "https://localhost:8080/"
        },
        "id": "AXRcUdMgdGo6",
        "outputId": "4d56138e-72ac-47b4-9d2a-832040b7a983"
      },
      "outputs": [
        {
          "output_type": "stream",
          "name": "stdout",
          "text": [
            "161\n"
          ]
        }
      ],
      "source": [
        "# default : False\n",
        "cnt = 0\n",
        "for param in model.parameters():\n",
        "    cnt += 1\n",
        "    param.requires_grad = True\n",
        "print(cnt)"
      ]
    },
    {
      "cell_type": "markdown",
      "metadata": {
        "id": "h75yQrGwC5l0"
      },
      "source": [
        "- load 후 모드 선택 필수\n",
        "    - .train() or .eval()\n",
        "    - 모델 선언시 모드 선택은 저장 X"
      ]
    },
    {
      "cell_type": "markdown",
      "metadata": {
        "id": "Kx3YepVhm8sy"
      },
      "source": [
        "- RuntimeError: Input type (torch.cuda.LongTensor) and weight type (torch.cuda.FloatTensor) should be the same\n",
        "    -  from\n",
        "    ```python\n",
        "    images = images.long().to(device)\n",
        "    labels = torch.unsqueeze(labels,1).long().to(device)\n",
        "    ```\n",
        "    - to \n",
        "    ```python\n",
        "    images = images.type(torch.FloatTensor).to(device)\n",
        "    labels = torch.unsqueeze(labels,1).type(torch.FloatTensor).to(device)\n",
        "    ```\n",
        "- RuntimeError: Found dtype Long but expected Float\n",
        "    ```python\n",
        "    loss =  criterion(pred.to(torch.float32), y.to(torch.float32))\n",
        "    ```\n",
        "\n",
        "\n",
        "- RuntimeError: Input type (torch.cuda.FloatTensor) and weight type (torch.FloatTensor) should be the same\n",
        "    - data, model 모두 동일한 device에서 실행되어야 한다.\n",
        "    ```python\n",
        "    to(deivce)\n",
        "    ```\n",
        "\n",
        "- RuntimeError: Expected all tensors to be on the same device, but found at least two devices, cpu and cuda:0! (when checking arugment for argument mat1 in method wrapper_addmm)\n",
        "- RuntimeError: Found dtype Long but expected Float\n",
        "```python\n",
        "    X = X.type(torch.FloatTensor).to(device)\n",
        "    y = y.type(torch.FloatTensor).to(device)\n",
        "```\n",
        "\n",
        "- RuntimeError: element 0 of tensors does not require grad and does not have a grad_fn\n",
        "\n",
        "    - from\n",
        "    ```python\n",
        "    images.requires_grad, labels.requires_grad\n",
        "    > False, False\n",
        "\n",
        "    ```\n",
        "    - to (with FoldDataset) \n",
        "    ```python\n",
        "    images.require_grad = True\n",
        "    self.scores[idx] = True\n",
        "\n",
        "    ```\n",
        "- AttributeError: 'numpy.int64' object has no attribute 'requires_grad'\n"
      ]
    },
    {
      "cell_type": "markdown",
      "metadata": {
        "id": "fruYr0Cwm8sz"
      },
      "source": [
        "- cpu 정보 확인, 캐글\n",
        "```python\n",
        "!cat /proc/cpuinfo\n",
        "```"
      ]
    },
    {
      "cell_type": "markdown",
      "source": [
        "# DataLoader"
      ],
      "metadata": {
        "id": "9PPGiBDJHUYA"
      }
    },
    {
      "cell_type": "code",
      "source": [
        "fold = 3\n",
        "df_train = df[df.fold != fold]\n",
        "df_valid = df[df.fold == fold]"
      ],
      "metadata": {
        "id": "C2ipy_HaJ50Q"
      },
      "execution_count": 56,
      "outputs": []
    },
    {
      "cell_type": "code",
      "source": [
        "df_valid.shape, df_train.shape"
      ],
      "metadata": {
        "colab": {
          "base_uri": "https://localhost:8080/"
        },
        "id": "kSGMQTRqKB04",
        "outputId": "29ce35c3-6ba3-4504-f433-3bc68debdd77"
      },
      "execution_count": 57,
      "outputs": [
        {
          "output_type": "execute_result",
          "data": {
            "text/plain": [
              "((1982, 16), (7930, 16))"
            ]
          },
          "metadata": {},
          "execution_count": 57
        }
      ]
    },
    {
      "cell_type": "code",
      "source": [
        "def prepare_loaders(fold):\n",
        "    # df_train = df[df.fold != fold]\n",
        "    # df_valid = df[df.fold == fold]\n",
        "    \n",
        "    train_fold = FoldDataset(train_dataset,fold=fold)\n",
        "    val_fold = FoldDataset(train_dataset,fold=fold)\n",
        "    \n",
        "\n",
        "    train_loader = DataLoader(train_fold, batch_size=CFG.batch_size, shuffle=False, pin_memory=True, drop_last=True)\n",
        "    valid_loader = DataLoader(val_fold, batch_size=CFG.batch_size, shuffle=False, pin_memory=True)\n",
        "\n",
        "    return train_loader, valid_loader"
      ],
      "metadata": {
        "id": "cubomZQCE6IQ"
      },
      "execution_count": 58,
      "outputs": []
    },
    {
      "cell_type": "markdown",
      "source": [
        "-  ValueError: num_samples should be a positive integer value, but got num_samples=0\n",
        "> 커스텀 DataSet에 __len__, __getitem__을 만들지 않아서, 빈 fold를 DataLoader에 탑재함\n",
        "    - 해결책\n",
        "    ```python\n",
        "    class FoldDataset(dataset):\n",
        "        def __len__():\n",
        "            pass\n",
        "        def __getitem__():\n",
        "            pass\n",
        "    ```\n",
        "\n",
        "\n",
        "- KeyError: 1\n",
        "> dataset의 images, targets의 인덱스 불일치\n",
        "- 해결책 : index를 일치하도록 변경\n",
        "\n",
        "\n",
        "\n"
      ],
      "metadata": {
        "id": "-3eJf7IlOkp2"
      }
    },
    {
      "cell_type": "markdown",
      "source": [
        "# DataLoader / Creterion / Optimizer"
      ],
      "metadata": {
        "id": "UcQwpr3Wcvsx"
      }
    },
    {
      "cell_type": "code",
      "source": [
        "train_loader, valid_loader = prepare_loaders(fold=0)\n",
        "criterion = nn.MSELoss()\n",
        "optimizer = torch.optim.Adam(model.parameters(),lr=CFG.lr)\n",
        "scheduler = lr_scheduler.CosineAnnealingLR(optimizer,T_max=CFG.T_max, \n",
        "                                                   eta_min=CFG.min_lr)"
      ],
      "metadata": {
        "id": "TinLMQDNcvZV"
      },
      "execution_count": 59,
      "outputs": []
    },
    {
      "cell_type": "markdown",
      "source": [
        "# Loading from Savepoint"
      ],
      "metadata": {
        "id": "JVFdfo6X8GP6"
      }
    },
    {
      "cell_type": "code",
      "source": [
        "print(CFG.use_checkpoint)\n",
        "filenames = os.listdir(CFG.SAVEPATH)\n",
        "\n",
        "# check point 사용 설정하고 & save 폴더에 저장된 모델이 존재 한다면\n",
        "if CFG.use_checkpoint and os.path.exists(CFG.SAVEPATH): \n",
        "    \n",
        "    checkpoint = torch.load(CFG.SAVEPATH+filenames[0])\n",
        "    model.load_state_dict(checkpoint['model_state_dict'])\n",
        "    # train_history = checkpoint['loss_history']\n",
        "    # optimizer.load_state_dict(checkpoint['optimizer_state_dict'])\n",
        "    # scheduler.load_state_dict(checkpoint['scheduler_state_dict'])\n",
        "\n",
        "    # checkpoint_epoch = checkpoint['epoch']\n",
        "    # checkpoint_loss = checkpoint['loss']\n",
        "    model.eval()\n",
        "    output.clear()\n",
        "    print(\"Start from Checkpoint\")\n",
        "    # plt.plot(train_history)\n",
        "else:\n",
        "    print(\"start from zero\")"
      ],
      "metadata": {
        "colab": {
          "base_uri": "https://localhost:8080/"
        },
        "id": "x_YZGS0I8F4S",
        "outputId": "1489ea11-ebda-4edf-9b92-c0c1d11e9e06"
      },
      "execution_count": 60,
      "outputs": [
        {
          "output_type": "stream",
          "name": "stdout",
          "text": [
            "Start from Checkpoint\n"
          ]
        }
      ]
    },
    {
      "cell_type": "markdown",
      "metadata": {
        "id": "YzX0mBGkeXsE"
      },
      "source": [
        "# Training per epoch"
      ]
    },
    {
      "cell_type": "code",
      "source": [
        "from torch.autograd import grad\n",
        "def train_one_epoch(model,optimizer,scheduler,dataloader,device,epoch):\n",
        "    model.train()\n",
        "\n",
        "    dataset_size = 0\n",
        "    running_loss = 0.0\n",
        "\n",
        "    bar = tqdm(enumerate(dataloader),total = len(dataloader))\n",
        "    for step, (images, targets) in bar:\n",
        "        images = images.to(device, dtype=torch.float)\n",
        "        targets = torch.unsqueeze(targets.to(device, dtype=torch.float),1)\n",
        "        images.requires_grad =True\n",
        "        targets.requires_grad = True\n",
        "\n",
        "        batch_size = images.size(0)\n",
        "        optimizer.zero_grad()\n",
        "\n",
        "        outputs = model(images)\n",
        "        loss = criterion(outputs, targets)\n",
        "        loss = loss / CFG.n_accumulate\n",
        "\n",
        "        \n",
        "        \n",
        "        loss.backward()\n",
        "        optimizer.step()\n",
        "        scheduler.step()\n",
        "\n",
        "        running_loss += loss.item()*CFG.batch_size\n",
        "        dataset_size += CFG.batch_size\n",
        "\n",
        "        epoch_loss = running_loss / dataset_size\n",
        "\n",
        "        bar.set_postfix(Epoch=epoch,Train_Loss=epoch_loss,LR=optimizer.param_groups[0][\"lr\"])\n",
        "\n",
        "    gc.collect()\n",
        "\n",
        "    return epoch_loss    \n",
        "        \n"
      ],
      "metadata": {
        "id": "oDfh9XCwZ4L2"
      },
      "execution_count": 61,
      "outputs": []
    },
    {
      "cell_type": "markdown",
      "source": [
        "# Validation per epoch"
      ],
      "metadata": {
        "id": "uB8j6qNJhGx0"
      }
    },
    {
      "cell_type": "code",
      "source": [
        "@torch.no_grad()\n",
        "def valid_one_epoch(model,dataloader, device,epoch):\n",
        "    model.eval()\n",
        "\n",
        "    dataset_size = 0\n",
        "    running_loss = 0.0\n",
        "\n",
        "    TARGETS = []\n",
        "    PREDS = []\n",
        "\n",
        "    bar = tqdm(enumerate(dataloader),total=len(dataloader))\n",
        "    for step, (images,targets) in bar:\n",
        "        images = images.to(device, dtype=torch.float)\n",
        "        targets = torch.unsqueeze(targets.to(device,dtype=torch.float),1)\n",
        "\n",
        "        images.require_grad = True\n",
        "        targets.require_grad = True\n",
        "\n",
        "        optimizer.zero_grad()\n",
        "        outputs = model(images)\n",
        "        loss = criterion(outputs,targets)\n",
        "        \n",
        "        running_loss += loss.item() * CFG.batch_size\n",
        "        dataset_size += CFG.batch_size\n",
        "\n",
        "        epoch_loss = running_loss / dataset_size\n",
        "\n",
        "        PREDS += [outputs.view(-1).cpu().detach().numpy()]\n",
        "        TARGETS += [targets.view(-1).cpu().detach().numpy()]\n",
        "\n",
        "        bar.set_postfix(Epoch=epoch,Valid_Loss=epoch_loss,LR=optimizer.param_groups[0]['lr'])\n",
        "\n",
        "    TARGETS = np.concatenate(TARGETS)\n",
        "    PREDS = np.concatenate(PREDS)\n",
        "\n",
        "    val_rmse = mean_squared_error(TARGETS,PREDS,squared=False)\n",
        "\n",
        "    gc.collect()\n",
        "\n",
        "    return epoch_loss, val_rmse\n"
      ],
      "metadata": {
        "id": "fdEsp49Nc_-N"
      },
      "execution_count": 62,
      "outputs": []
    },
    {
      "cell_type": "markdown",
      "source": [
        "# Run Training"
      ],
      "metadata": {
        "id": "9vfaKgd2E2SR"
      }
    },
    {
      "cell_type": "code",
      "source": [
        "from collections import defaultdict\n",
        "import copy \n",
        "\n",
        "def run_training(model, optimizer, scheduler, device, num_epochs):\n",
        "    # To automatically log gradients\n",
        "    wandb.watch(model, log_freq=100)\n",
        "    earlystop_cnt = 0\n",
        "        \n",
        "    if torch.cuda.is_available():\n",
        "        print(\"[INFO] Using GPU: {}\\n\".format(torch.cuda.get_device_name()))\n",
        "    \n",
        "    start = time.time()\n",
        "    best_model_wts = copy.deepcopy(model.state_dict())\n",
        "    best_epoch_rmse = np.inf\n",
        "    history = defaultdict(list)\n",
        "    \n",
        "    for epoch in range(1, num_epochs + 1): \n",
        "        gc.collect()\n",
        "        train_epoch_loss = train_one_epoch(model, optimizer, scheduler, \n",
        "                                           dataloader=train_loader, \n",
        "                                           device=CFG.device, epoch=epoch)\n",
        "        \n",
        "        val_epoch_loss, val_epoch_rmse = valid_one_epoch(model, valid_loader, \n",
        "                                                         device=CFG.device, \n",
        "                                                         epoch=epoch)\n",
        "    \n",
        "        history['Train Loss'].append(train_epoch_loss)\n",
        "        history['Valid Loss'].append(val_epoch_loss)\n",
        "        history['Valid RMSE'].append(val_epoch_rmse)\n",
        "        \n",
        "        # Log the metrics\n",
        "        wandb.log({\"Train Loss\": train_epoch_loss})\n",
        "        wandb.log({\"Valid Loss\": val_epoch_loss})\n",
        "        wandb.log({\"Valid RMSE\": val_epoch_rmse})\n",
        "        \n",
        "        print(f'Valid RMSE: {val_epoch_rmse}')\n",
        "        \n",
        "        # deep copy the model\n",
        "        if val_epoch_rmse  <= best_epoch_rmse+ CFG.delta:\n",
        "            earlystop_cnt = 0\n",
        "            print(f\"{c_}Validation Loss Improved ({best_epoch_rmse} ---> {val_epoch_rmse})\")\n",
        "            best_epoch_rmse = val_epoch_rmse\n",
        "            run.summary[\"Best RMSE\"] = best_epoch_rmse\n",
        "            best_model_wts = copy.deepcopy(model.state_dict())\n",
        "            PATH = \"RMSE{:.4f}_epoch{:.0f}.bin\".format(best_epoch_rmse, epoch)\n",
        "            torch.save({\n",
        "            'epoch': epoch,\n",
        "            'model_state_dict': model.state_dict(),\n",
        "            'optimizer_state_dict' : optimizer.state_dict(),\n",
        "            'loss_history': history\n",
        "            }, f\"{CFG.SAVEPATH}{CFG.time}best_model.pt\") # {CFG.SAVEPATH} , drive 용량 고려 \n",
        "            #f\"{CFG.SAVEPATH}{CFG.time}_RMSE{best_epoch_rmse:.4f}_epoch{epoch:.0f}\"\n",
        "                 \n",
        "            # Save a model file from the current directory\n",
        "            wandb.save(PATH)\n",
        "            print(f\"Model Saved{sr_}\")\n",
        "        else:\n",
        "            earlystop_cnt += 1\n",
        "            print(Fore.RED+Style.BRIGHT+f\"Early stopped counted {earlystop_cnt}\"+Style.RESET_ALL)\n",
        "\n",
        "            if earlystop_cnt >= CFG.patience:\n",
        "                print(Back.WHITE + Fore.RED + Style.BRIGHT + \" Early Stopped !! \" + Style.RESET_ALL)\n",
        "                return model, history\n",
        "\n",
        "        print()\n",
        "\n",
        "    end = time.time()\n",
        "    time_elapsed = end - start\n",
        "    print('Training complete in {:.0f}h {:.0f}m {:.0f}s'.format(\n",
        "        time_elapsed // 3600, (time_elapsed % 3600) // 60, (time_elapsed % 3600) % 60))\n",
        "    print(\"Best RMSE: {:.4f}\".format(best_epoch_rmse))\n",
        "    \n",
        "    # load best model weights\n",
        "    model.load_state_dict(best_model_wts)\n",
        "    \n",
        "    return model, history"
      ],
      "metadata": {
        "id": "ZG0d7ntoE175"
      },
      "execution_count": 63,
      "outputs": []
    },
    {
      "cell_type": "markdown",
      "source": [
        "# Training with K-Fold"
      ],
      "metadata": {
        "id": "GEZdhf28qbeu"
      }
    },
    {
      "cell_type": "code",
      "source": [
        "# train_history = defaultdict(list)\n",
        "\n",
        "# for fold in range(CFG.n_fold):\n",
        "#     train_loader, valid_loader = prepare_loaders(fold=fold)\n",
        "#     model, history = run_training(model, optimizer, scheduler, CFG.device, CFG.epoch)\n",
        "#     train_history['Train Loss'].append(history['Train Loss'])\n",
        "#     train_history['Valid Loss'].append(history['Valid Loss'])\n",
        "#     train_history['Valid RMSE'].append(history['Valid RMSE'])"
      ],
      "metadata": {
        "id": "AQJovCzkc59N"
      },
      "execution_count": 64,
      "outputs": []
    },
    {
      "cell_type": "markdown",
      "source": [
        "# training with training set & validation set (0.8 : 0.2)"
      ],
      "metadata": {
        "id": "8-zjhDdBqZ8Q"
      }
    },
    {
      "cell_type": "code",
      "source": [
        "model, train_history = run_training(model, optimizer, scheduler, CFG.device, CFG.epoch)"
      ],
      "metadata": {
        "id": "mSjE9SozLwZN"
      },
      "execution_count": null,
      "outputs": []
    },
    {
      "cell_type": "code",
      "source": [
        "wandb.finish()"
      ],
      "metadata": {
        "id": "lN5ey0Agac5L",
        "colab": {
          "base_uri": "https://localhost:8080/",
          "height": 289,
          "referenced_widgets": [
            "55119001bfab426998aa9cb5fb21051e",
            "679b44eaced24712821c578557b6d3bd",
            "79e05e3d4ff1435bb73f3fa154048e5a",
            "28520fa6043f435b8761d0153695ea46",
            "a540112012d84fe69b1757be2141c4fa",
            "db4f1dcddf8340479214af7732d239d5",
            "64e62c37105e4ad4953a960815025435",
            "c7549b4d1e5f4d8f88d8b5d7dc71ba99"
          ]
        },
        "outputId": "483a4990-9605-4f9f-9b0c-6d7afa536db4"
      },
      "execution_count": 66,
      "outputs": [
        {
          "output_type": "stream",
          "name": "stdout",
          "text": [
            "\n"
          ]
        },
        {
          "output_type": "display_data",
          "data": {
            "text/plain": [
              "<IPython.core.display.HTML object>"
            ],
            "text/html": [
              "Waiting for W&B process to finish... <strong style=\"color:green\">(success).</strong>"
            ]
          },
          "metadata": {}
        },
        {
          "output_type": "display_data",
          "data": {
            "text/plain": [
              "VBox(children=(Label(value='0.001 MB of 0.001 MB uploaded (0.000 MB deduped)\\r'), FloatProgress(value=1.0, max…"
            ],
            "application/vnd.jupyter.widget-view+json": {
              "version_major": 2,
              "version_minor": 0,
              "model_id": "55119001bfab426998aa9cb5fb21051e"
            }
          },
          "metadata": {}
        },
        {
          "output_type": "display_data",
          "data": {
            "text/plain": [
              "<IPython.core.display.HTML object>"
            ],
            "text/html": [
              "<style>\n",
              "    table.wandb td:nth-child(1) { padding: 0 10px; text-align: right }\n",
              "    .wandb-row { display: flex; flex-direction: row; flex-wrap: wrap; width: 100% }\n",
              "    .wandb-col { display: flex; flex-direction: column; flex-basis: 100%; flex: 1; padding: 10px; }\n",
              "    </style>\n",
              "<div class=\"wandb-row\"><div class=\"wandb-col\"><h3>Run history:</h3><br/><table class=\"wandb\"><tr><td>Train Loss</td><td>█▆▄▃▃▂▂▂▂▂▂▂▂▁▁▂▁▁▁▁▁▁▁▁▁▁▁▁▁▁▁▁▁▁▁▁▁▁▁▁</td></tr><tr><td>Valid Loss</td><td>█▆▇▃▃▆▅▃▅▆▇▄▄▄▄▂▃▅▅▃▃▃▃▄▅▃▂▂▂▃▁▃▁▃▂▃▂▂▂▂</td></tr><tr><td>Valid RMSE</td><td>█▆▇▃▃▆▅▄▅▆▇▄▄▄▄▂▃▅▆▃▃▃▄▄▅▃▂▂▂▃▁▃▁▃▂▃▂▂▂▂</td></tr></table><br/></div><div class=\"wandb-col\"><h3>Run summary:</h3><br/><table class=\"wandb\"><tr><td>Best RMSE</td><td>7.17603</td></tr><tr><td>Train Loss</td><td>0.10059</td></tr><tr><td>Valid Loss</td><td>51.66178</td></tr><tr><td>Valid RMSE</td><td>7.17603</td></tr></table><br/></div></div>"
            ]
          },
          "metadata": {}
        },
        {
          "output_type": "display_data",
          "data": {
            "text/plain": [
              "<IPython.core.display.HTML object>"
            ],
            "text/html": [
              "Synced <strong style=\"color:#cdcd00\">2022-03-18 09_51_24</strong>: <a href=\"https://wandb.ai/findyourfit/petfinder-project/runs/2o981t72\" target=\"_blank\">https://wandb.ai/findyourfit/petfinder-project/runs/2o981t72</a><br/>Synced 5 W&B file(s), 0 media file(s), 0 artifact file(s) and 0 other file(s)"
            ]
          },
          "metadata": {}
        },
        {
          "output_type": "display_data",
          "data": {
            "text/plain": [
              "<IPython.core.display.HTML object>"
            ],
            "text/html": [
              "Find logs at: <code>./wandb/run-20220318_005129-2o981t72/logs</code>"
            ]
          },
          "metadata": {}
        }
      ]
    },
    {
      "cell_type": "markdown",
      "source": [
        "# Saving a last model \n",
        "- not mean best model"
      ],
      "metadata": {
        "id": "1Ez5lyWfE55C"
      }
    },
    {
      "cell_type": "code",
      "execution_count": 67,
      "metadata": {
        "id": "eM8-cWNBm8sz"
      },
      "outputs": [],
      "source": [
        "torch.save({\n",
        "            'epoch': CFG.epoch,\n",
        "            'model_state_dict': model.state_dict(),\n",
        "            'optimizer_state_dict' : optimizer.state_dict(),\n",
        "            'scheduler_state_dict' : scheduler.state_dict(),\n",
        "            'loss_history': train_history\n",
        "            }, f\"{CFG.SAVEPATH}{CFG.time}last_model.pt\")"
      ]
    },
    {
      "cell_type": "code",
      "execution_count": 68,
      "metadata": {
        "id": "78GyfuetsPVf",
        "colab": {
          "base_uri": "https://localhost:8080/",
          "height": 34
        },
        "outputId": "381f8973-06af-41d9-a9e0-c4dc3f08d890"
      },
      "outputs": [
        {
          "output_type": "display_data",
          "data": {
            "text/plain": [
              "<IPython.core.display.Javascript object>"
            ],
            "application/javascript": [
              "\n",
              "    async function download(id, filename, size) {\n",
              "      if (!google.colab.kernel.accessAllowed) {\n",
              "        return;\n",
              "      }\n",
              "      const div = document.createElement('div');\n",
              "      const label = document.createElement('label');\n",
              "      label.textContent = `Downloading \"${filename}\": `;\n",
              "      div.appendChild(label);\n",
              "      const progress = document.createElement('progress');\n",
              "      progress.max = size;\n",
              "      div.appendChild(progress);\n",
              "      document.body.appendChild(div);\n",
              "\n",
              "      const buffers = [];\n",
              "      let downloaded = 0;\n",
              "\n",
              "      const channel = await google.colab.kernel.comms.open(id);\n",
              "      // Send a message to notify the kernel that we're ready.\n",
              "      channel.send({})\n",
              "\n",
              "      for await (const message of channel.messages) {\n",
              "        // Send a message to notify the kernel that we're ready.\n",
              "        channel.send({})\n",
              "        if (message.buffers) {\n",
              "          for (const buffer of message.buffers) {\n",
              "            buffers.push(buffer);\n",
              "            downloaded += buffer.byteLength;\n",
              "            progress.value = downloaded;\n",
              "          }\n",
              "        }\n",
              "      }\n",
              "      const blob = new Blob(buffers, {type: 'application/binary'});\n",
              "      const a = document.createElement('a');\n",
              "      a.href = window.URL.createObjectURL(blob);\n",
              "      a.download = filename;\n",
              "      div.appendChild(a);\n",
              "      a.click();\n",
              "      div.remove();\n",
              "    }\n",
              "  "
            ]
          },
          "metadata": {}
        },
        {
          "output_type": "display_data",
          "data": {
            "text/plain": [
              "<IPython.core.display.Javascript object>"
            ],
            "application/javascript": [
              "download(\"download_d38ee913-16e9-4baa-a2d2-3f8235decc71\", \"2022-03-18 09_51_24last_model.pt\", 282558013)"
            ]
          },
          "metadata": {}
        }
      ],
      "source": [
        "from google.colab import files\n",
        "\n",
        "files.download(f\"{CFG.SAVEPATH}{CFG.time}last_model.pt\")"
      ]
    },
    {
      "cell_type": "code",
      "execution_count": 69,
      "metadata": {
        "id": "a3oEM7dhm8s0",
        "colab": {
          "base_uri": "https://localhost:8080/",
          "height": 35
        },
        "outputId": "c4dea9a8-ff15-46fd-8730-008b93218c6f"
      },
      "outputs": [
        {
          "output_type": "execute_result",
          "data": {
            "text/plain": [
              "'2022-03-18 09_51_24'"
            ],
            "application/vnd.google.colaboratory.intrinsic+json": {
              "type": "string"
            }
          },
          "metadata": {},
          "execution_count": 69
        }
      ],
      "source": [
        "CFG.time"
      ]
    },
    {
      "cell_type": "code",
      "execution_count": 69,
      "metadata": {
        "id": "S7UwMgE-m8s0"
      },
      "outputs": [],
      "source": [
        ""
      ]
    }
  ],
  "metadata": {
    "accelerator": "GPU",
    "colab": {
      "collapsed_sections": [],
      "machine_shape": "hm",
      "name": "best-resnet50-only-img-colab-train.ipynb",
      "provenance": []
    },
    "kernelspec": {
      "display_name": "Python 3",
      "language": "python",
      "name": "python3"
    },
    "language_info": {
      "codemirror_mode": {
        "name": "ipython",
        "version": 3
      },
      "file_extension": ".py",
      "mimetype": "text/x-python",
      "name": "python",
      "nbconvert_exporter": "python",
      "pygments_lexer": "ipython3",
      "version": "3.7.12"
    },
    "widgets": {
      "application/vnd.jupyter.widget-state+json": {
        "04067d6a49464350a7aade529ead2548": {
          "model_module": "@jupyter-widgets/controls",
          "model_name": "HBoxModel",
          "model_module_version": "1.5.0",
          "state": {
            "_dom_classes": [],
            "_model_module": "@jupyter-widgets/controls",
            "_model_module_version": "1.5.0",
            "_model_name": "HBoxModel",
            "_view_count": null,
            "_view_module": "@jupyter-widgets/controls",
            "_view_module_version": "1.5.0",
            "_view_name": "HBoxView",
            "box_style": "",
            "children": [
              "IPY_MODEL_4a19de09118b41c995cdc0d36a987b20",
              "IPY_MODEL_e37f504005e5411cb605de419d22cfc8",
              "IPY_MODEL_11861587f4ed436f901b8d3e51e2d067"
            ],
            "layout": "IPY_MODEL_620a7276bba240eeb01b12fe0e97b16a"
          }
        },
        "4a19de09118b41c995cdc0d36a987b20": {
          "model_module": "@jupyter-widgets/controls",
          "model_name": "HTMLModel",
          "model_module_version": "1.5.0",
          "state": {
            "_dom_classes": [],
            "_model_module": "@jupyter-widgets/controls",
            "_model_module_version": "1.5.0",
            "_model_name": "HTMLModel",
            "_view_count": null,
            "_view_module": "@jupyter-widgets/controls",
            "_view_module_version": "1.5.0",
            "_view_name": "HTMLView",
            "description": "",
            "description_tooltip": null,
            "layout": "IPY_MODEL_3c7cb29dea954ba393ef53c43c5893f0",
            "placeholder": "​",
            "style": "IPY_MODEL_5c79653fdf564c1cb901e775bd9074e4",
            "value": "100%"
          }
        },
        "e37f504005e5411cb605de419d22cfc8": {
          "model_module": "@jupyter-widgets/controls",
          "model_name": "FloatProgressModel",
          "model_module_version": "1.5.0",
          "state": {
            "_dom_classes": [],
            "_model_module": "@jupyter-widgets/controls",
            "_model_module_version": "1.5.0",
            "_model_name": "FloatProgressModel",
            "_view_count": null,
            "_view_module": "@jupyter-widgets/controls",
            "_view_module_version": "1.5.0",
            "_view_name": "ProgressView",
            "bar_style": "success",
            "description": "",
            "description_tooltip": null,
            "layout": "IPY_MODEL_c1d8446ceacc441da0b2bdc04e529dc7",
            "max": 9912,
            "min": 0,
            "orientation": "horizontal",
            "style": "IPY_MODEL_cee86384be29465a9a8a2c3dd5fcbb95",
            "value": 9912
          }
        },
        "11861587f4ed436f901b8d3e51e2d067": {
          "model_module": "@jupyter-widgets/controls",
          "model_name": "HTMLModel",
          "model_module_version": "1.5.0",
          "state": {
            "_dom_classes": [],
            "_model_module": "@jupyter-widgets/controls",
            "_model_module_version": "1.5.0",
            "_model_name": "HTMLModel",
            "_view_count": null,
            "_view_module": "@jupyter-widgets/controls",
            "_view_module_version": "1.5.0",
            "_view_name": "HTMLView",
            "description": "",
            "description_tooltip": null,
            "layout": "IPY_MODEL_80fee8c999854ea9b853b595df1164a4",
            "placeholder": "​",
            "style": "IPY_MODEL_34e5065488b54528996af19c83abe296",
            "value": " 9912/9912 [02:37&lt;00:00, 68.13it/s]"
          }
        },
        "620a7276bba240eeb01b12fe0e97b16a": {
          "model_module": "@jupyter-widgets/base",
          "model_name": "LayoutModel",
          "model_module_version": "1.2.0",
          "state": {
            "_model_module": "@jupyter-widgets/base",
            "_model_module_version": "1.2.0",
            "_model_name": "LayoutModel",
            "_view_count": null,
            "_view_module": "@jupyter-widgets/base",
            "_view_module_version": "1.2.0",
            "_view_name": "LayoutView",
            "align_content": null,
            "align_items": null,
            "align_self": null,
            "border": null,
            "bottom": null,
            "display": null,
            "flex": null,
            "flex_flow": null,
            "grid_area": null,
            "grid_auto_columns": null,
            "grid_auto_flow": null,
            "grid_auto_rows": null,
            "grid_column": null,
            "grid_gap": null,
            "grid_row": null,
            "grid_template_areas": null,
            "grid_template_columns": null,
            "grid_template_rows": null,
            "height": null,
            "justify_content": null,
            "justify_items": null,
            "left": null,
            "margin": null,
            "max_height": null,
            "max_width": null,
            "min_height": null,
            "min_width": null,
            "object_fit": null,
            "object_position": null,
            "order": null,
            "overflow": null,
            "overflow_x": null,
            "overflow_y": null,
            "padding": null,
            "right": null,
            "top": null,
            "visibility": null,
            "width": null
          }
        },
        "3c7cb29dea954ba393ef53c43c5893f0": {
          "model_module": "@jupyter-widgets/base",
          "model_name": "LayoutModel",
          "model_module_version": "1.2.0",
          "state": {
            "_model_module": "@jupyter-widgets/base",
            "_model_module_version": "1.2.0",
            "_model_name": "LayoutModel",
            "_view_count": null,
            "_view_module": "@jupyter-widgets/base",
            "_view_module_version": "1.2.0",
            "_view_name": "LayoutView",
            "align_content": null,
            "align_items": null,
            "align_self": null,
            "border": null,
            "bottom": null,
            "display": null,
            "flex": null,
            "flex_flow": null,
            "grid_area": null,
            "grid_auto_columns": null,
            "grid_auto_flow": null,
            "grid_auto_rows": null,
            "grid_column": null,
            "grid_gap": null,
            "grid_row": null,
            "grid_template_areas": null,
            "grid_template_columns": null,
            "grid_template_rows": null,
            "height": null,
            "justify_content": null,
            "justify_items": null,
            "left": null,
            "margin": null,
            "max_height": null,
            "max_width": null,
            "min_height": null,
            "min_width": null,
            "object_fit": null,
            "object_position": null,
            "order": null,
            "overflow": null,
            "overflow_x": null,
            "overflow_y": null,
            "padding": null,
            "right": null,
            "top": null,
            "visibility": null,
            "width": null
          }
        },
        "5c79653fdf564c1cb901e775bd9074e4": {
          "model_module": "@jupyter-widgets/controls",
          "model_name": "DescriptionStyleModel",
          "model_module_version": "1.5.0",
          "state": {
            "_model_module": "@jupyter-widgets/controls",
            "_model_module_version": "1.5.0",
            "_model_name": "DescriptionStyleModel",
            "_view_count": null,
            "_view_module": "@jupyter-widgets/base",
            "_view_module_version": "1.2.0",
            "_view_name": "StyleView",
            "description_width": ""
          }
        },
        "c1d8446ceacc441da0b2bdc04e529dc7": {
          "model_module": "@jupyter-widgets/base",
          "model_name": "LayoutModel",
          "model_module_version": "1.2.0",
          "state": {
            "_model_module": "@jupyter-widgets/base",
            "_model_module_version": "1.2.0",
            "_model_name": "LayoutModel",
            "_view_count": null,
            "_view_module": "@jupyter-widgets/base",
            "_view_module_version": "1.2.0",
            "_view_name": "LayoutView",
            "align_content": null,
            "align_items": null,
            "align_self": null,
            "border": null,
            "bottom": null,
            "display": null,
            "flex": null,
            "flex_flow": null,
            "grid_area": null,
            "grid_auto_columns": null,
            "grid_auto_flow": null,
            "grid_auto_rows": null,
            "grid_column": null,
            "grid_gap": null,
            "grid_row": null,
            "grid_template_areas": null,
            "grid_template_columns": null,
            "grid_template_rows": null,
            "height": null,
            "justify_content": null,
            "justify_items": null,
            "left": null,
            "margin": null,
            "max_height": null,
            "max_width": null,
            "min_height": null,
            "min_width": null,
            "object_fit": null,
            "object_position": null,
            "order": null,
            "overflow": null,
            "overflow_x": null,
            "overflow_y": null,
            "padding": null,
            "right": null,
            "top": null,
            "visibility": null,
            "width": null
          }
        },
        "cee86384be29465a9a8a2c3dd5fcbb95": {
          "model_module": "@jupyter-widgets/controls",
          "model_name": "ProgressStyleModel",
          "model_module_version": "1.5.0",
          "state": {
            "_model_module": "@jupyter-widgets/controls",
            "_model_module_version": "1.5.0",
            "_model_name": "ProgressStyleModel",
            "_view_count": null,
            "_view_module": "@jupyter-widgets/base",
            "_view_module_version": "1.2.0",
            "_view_name": "StyleView",
            "bar_color": null,
            "description_width": ""
          }
        },
        "80fee8c999854ea9b853b595df1164a4": {
          "model_module": "@jupyter-widgets/base",
          "model_name": "LayoutModel",
          "model_module_version": "1.2.0",
          "state": {
            "_model_module": "@jupyter-widgets/base",
            "_model_module_version": "1.2.0",
            "_model_name": "LayoutModel",
            "_view_count": null,
            "_view_module": "@jupyter-widgets/base",
            "_view_module_version": "1.2.0",
            "_view_name": "LayoutView",
            "align_content": null,
            "align_items": null,
            "align_self": null,
            "border": null,
            "bottom": null,
            "display": null,
            "flex": null,
            "flex_flow": null,
            "grid_area": null,
            "grid_auto_columns": null,
            "grid_auto_flow": null,
            "grid_auto_rows": null,
            "grid_column": null,
            "grid_gap": null,
            "grid_row": null,
            "grid_template_areas": null,
            "grid_template_columns": null,
            "grid_template_rows": null,
            "height": null,
            "justify_content": null,
            "justify_items": null,
            "left": null,
            "margin": null,
            "max_height": null,
            "max_width": null,
            "min_height": null,
            "min_width": null,
            "object_fit": null,
            "object_position": null,
            "order": null,
            "overflow": null,
            "overflow_x": null,
            "overflow_y": null,
            "padding": null,
            "right": null,
            "top": null,
            "visibility": null,
            "width": null
          }
        },
        "34e5065488b54528996af19c83abe296": {
          "model_module": "@jupyter-widgets/controls",
          "model_name": "DescriptionStyleModel",
          "model_module_version": "1.5.0",
          "state": {
            "_model_module": "@jupyter-widgets/controls",
            "_model_module_version": "1.5.0",
            "_model_name": "DescriptionStyleModel",
            "_view_count": null,
            "_view_module": "@jupyter-widgets/base",
            "_view_module_version": "1.2.0",
            "_view_name": "StyleView",
            "description_width": ""
          }
        },
        "9dc12cdc8621427fbb4f9dd650143348": {
          "model_module": "@jupyter-widgets/controls",
          "model_name": "HBoxModel",
          "model_module_version": "1.5.0",
          "state": {
            "_dom_classes": [],
            "_model_module": "@jupyter-widgets/controls",
            "_model_module_version": "1.5.0",
            "_model_name": "HBoxModel",
            "_view_count": null,
            "_view_module": "@jupyter-widgets/controls",
            "_view_module_version": "1.5.0",
            "_view_name": "HBoxView",
            "box_style": "",
            "children": [
              "IPY_MODEL_cf4b3d53d4024c838348152afb90c9f6",
              "IPY_MODEL_ef42c06e32dd46cf81d28cbfb25f08c4",
              "IPY_MODEL_be1d08cbf85b40519ba2b6749a90b03c"
            ],
            "layout": "IPY_MODEL_97abbec6fc594f12b3de849ddcc32027"
          }
        },
        "cf4b3d53d4024c838348152afb90c9f6": {
          "model_module": "@jupyter-widgets/controls",
          "model_name": "HTMLModel",
          "model_module_version": "1.5.0",
          "state": {
            "_dom_classes": [],
            "_model_module": "@jupyter-widgets/controls",
            "_model_module_version": "1.5.0",
            "_model_name": "HTMLModel",
            "_view_count": null,
            "_view_module": "@jupyter-widgets/controls",
            "_view_module_version": "1.5.0",
            "_view_name": "HTMLView",
            "description": "",
            "description_tooltip": null,
            "layout": "IPY_MODEL_c518bbc0c7784bdcbe379b4081e4dfa7",
            "placeholder": "​",
            "style": "IPY_MODEL_132138ce467948389b99be9cabf26cf3",
            "value": "100%"
          }
        },
        "ef42c06e32dd46cf81d28cbfb25f08c4": {
          "model_module": "@jupyter-widgets/controls",
          "model_name": "FloatProgressModel",
          "model_module_version": "1.5.0",
          "state": {
            "_dom_classes": [],
            "_model_module": "@jupyter-widgets/controls",
            "_model_module_version": "1.5.0",
            "_model_name": "FloatProgressModel",
            "_view_count": null,
            "_view_module": "@jupyter-widgets/controls",
            "_view_module_version": "1.5.0",
            "_view_name": "ProgressView",
            "bar_style": "success",
            "description": "",
            "description_tooltip": null,
            "layout": "IPY_MODEL_c367f30057ef4a76a5c362d16f28947a",
            "max": 102530333,
            "min": 0,
            "orientation": "horizontal",
            "style": "IPY_MODEL_f9ba979249834eef90b95de173a5e912",
            "value": 102530333
          }
        },
        "be1d08cbf85b40519ba2b6749a90b03c": {
          "model_module": "@jupyter-widgets/controls",
          "model_name": "HTMLModel",
          "model_module_version": "1.5.0",
          "state": {
            "_dom_classes": [],
            "_model_module": "@jupyter-widgets/controls",
            "_model_module_version": "1.5.0",
            "_model_name": "HTMLModel",
            "_view_count": null,
            "_view_module": "@jupyter-widgets/controls",
            "_view_module_version": "1.5.0",
            "_view_name": "HTMLView",
            "description": "",
            "description_tooltip": null,
            "layout": "IPY_MODEL_7e24122f6ec44ee78a2b13141823d3c6",
            "placeholder": "​",
            "style": "IPY_MODEL_cf44dfccfe634079b4d80611e3f1100a",
            "value": " 97.8M/97.8M [00:01&lt;00:00, 97.8MB/s]"
          }
        },
        "97abbec6fc594f12b3de849ddcc32027": {
          "model_module": "@jupyter-widgets/base",
          "model_name": "LayoutModel",
          "model_module_version": "1.2.0",
          "state": {
            "_model_module": "@jupyter-widgets/base",
            "_model_module_version": "1.2.0",
            "_model_name": "LayoutModel",
            "_view_count": null,
            "_view_module": "@jupyter-widgets/base",
            "_view_module_version": "1.2.0",
            "_view_name": "LayoutView",
            "align_content": null,
            "align_items": null,
            "align_self": null,
            "border": null,
            "bottom": null,
            "display": null,
            "flex": null,
            "flex_flow": null,
            "grid_area": null,
            "grid_auto_columns": null,
            "grid_auto_flow": null,
            "grid_auto_rows": null,
            "grid_column": null,
            "grid_gap": null,
            "grid_row": null,
            "grid_template_areas": null,
            "grid_template_columns": null,
            "grid_template_rows": null,
            "height": null,
            "justify_content": null,
            "justify_items": null,
            "left": null,
            "margin": null,
            "max_height": null,
            "max_width": null,
            "min_height": null,
            "min_width": null,
            "object_fit": null,
            "object_position": null,
            "order": null,
            "overflow": null,
            "overflow_x": null,
            "overflow_y": null,
            "padding": null,
            "right": null,
            "top": null,
            "visibility": null,
            "width": null
          }
        },
        "c518bbc0c7784bdcbe379b4081e4dfa7": {
          "model_module": "@jupyter-widgets/base",
          "model_name": "LayoutModel",
          "model_module_version": "1.2.0",
          "state": {
            "_model_module": "@jupyter-widgets/base",
            "_model_module_version": "1.2.0",
            "_model_name": "LayoutModel",
            "_view_count": null,
            "_view_module": "@jupyter-widgets/base",
            "_view_module_version": "1.2.0",
            "_view_name": "LayoutView",
            "align_content": null,
            "align_items": null,
            "align_self": null,
            "border": null,
            "bottom": null,
            "display": null,
            "flex": null,
            "flex_flow": null,
            "grid_area": null,
            "grid_auto_columns": null,
            "grid_auto_flow": null,
            "grid_auto_rows": null,
            "grid_column": null,
            "grid_gap": null,
            "grid_row": null,
            "grid_template_areas": null,
            "grid_template_columns": null,
            "grid_template_rows": null,
            "height": null,
            "justify_content": null,
            "justify_items": null,
            "left": null,
            "margin": null,
            "max_height": null,
            "max_width": null,
            "min_height": null,
            "min_width": null,
            "object_fit": null,
            "object_position": null,
            "order": null,
            "overflow": null,
            "overflow_x": null,
            "overflow_y": null,
            "padding": null,
            "right": null,
            "top": null,
            "visibility": null,
            "width": null
          }
        },
        "132138ce467948389b99be9cabf26cf3": {
          "model_module": "@jupyter-widgets/controls",
          "model_name": "DescriptionStyleModel",
          "model_module_version": "1.5.0",
          "state": {
            "_model_module": "@jupyter-widgets/controls",
            "_model_module_version": "1.5.0",
            "_model_name": "DescriptionStyleModel",
            "_view_count": null,
            "_view_module": "@jupyter-widgets/base",
            "_view_module_version": "1.2.0",
            "_view_name": "StyleView",
            "description_width": ""
          }
        },
        "c367f30057ef4a76a5c362d16f28947a": {
          "model_module": "@jupyter-widgets/base",
          "model_name": "LayoutModel",
          "model_module_version": "1.2.0",
          "state": {
            "_model_module": "@jupyter-widgets/base",
            "_model_module_version": "1.2.0",
            "_model_name": "LayoutModel",
            "_view_count": null,
            "_view_module": "@jupyter-widgets/base",
            "_view_module_version": "1.2.0",
            "_view_name": "LayoutView",
            "align_content": null,
            "align_items": null,
            "align_self": null,
            "border": null,
            "bottom": null,
            "display": null,
            "flex": null,
            "flex_flow": null,
            "grid_area": null,
            "grid_auto_columns": null,
            "grid_auto_flow": null,
            "grid_auto_rows": null,
            "grid_column": null,
            "grid_gap": null,
            "grid_row": null,
            "grid_template_areas": null,
            "grid_template_columns": null,
            "grid_template_rows": null,
            "height": null,
            "justify_content": null,
            "justify_items": null,
            "left": null,
            "margin": null,
            "max_height": null,
            "max_width": null,
            "min_height": null,
            "min_width": null,
            "object_fit": null,
            "object_position": null,
            "order": null,
            "overflow": null,
            "overflow_x": null,
            "overflow_y": null,
            "padding": null,
            "right": null,
            "top": null,
            "visibility": null,
            "width": null
          }
        },
        "f9ba979249834eef90b95de173a5e912": {
          "model_module": "@jupyter-widgets/controls",
          "model_name": "ProgressStyleModel",
          "model_module_version": "1.5.0",
          "state": {
            "_model_module": "@jupyter-widgets/controls",
            "_model_module_version": "1.5.0",
            "_model_name": "ProgressStyleModel",
            "_view_count": null,
            "_view_module": "@jupyter-widgets/base",
            "_view_module_version": "1.2.0",
            "_view_name": "StyleView",
            "bar_color": null,
            "description_width": ""
          }
        },
        "7e24122f6ec44ee78a2b13141823d3c6": {
          "model_module": "@jupyter-widgets/base",
          "model_name": "LayoutModel",
          "model_module_version": "1.2.0",
          "state": {
            "_model_module": "@jupyter-widgets/base",
            "_model_module_version": "1.2.0",
            "_model_name": "LayoutModel",
            "_view_count": null,
            "_view_module": "@jupyter-widgets/base",
            "_view_module_version": "1.2.0",
            "_view_name": "LayoutView",
            "align_content": null,
            "align_items": null,
            "align_self": null,
            "border": null,
            "bottom": null,
            "display": null,
            "flex": null,
            "flex_flow": null,
            "grid_area": null,
            "grid_auto_columns": null,
            "grid_auto_flow": null,
            "grid_auto_rows": null,
            "grid_column": null,
            "grid_gap": null,
            "grid_row": null,
            "grid_template_areas": null,
            "grid_template_columns": null,
            "grid_template_rows": null,
            "height": null,
            "justify_content": null,
            "justify_items": null,
            "left": null,
            "margin": null,
            "max_height": null,
            "max_width": null,
            "min_height": null,
            "min_width": null,
            "object_fit": null,
            "object_position": null,
            "order": null,
            "overflow": null,
            "overflow_x": null,
            "overflow_y": null,
            "padding": null,
            "right": null,
            "top": null,
            "visibility": null,
            "width": null
          }
        },
        "cf44dfccfe634079b4d80611e3f1100a": {
          "model_module": "@jupyter-widgets/controls",
          "model_name": "DescriptionStyleModel",
          "model_module_version": "1.5.0",
          "state": {
            "_model_module": "@jupyter-widgets/controls",
            "_model_module_version": "1.5.0",
            "_model_name": "DescriptionStyleModel",
            "_view_count": null,
            "_view_module": "@jupyter-widgets/base",
            "_view_module_version": "1.2.0",
            "_view_name": "StyleView",
            "description_width": ""
          }
        },
        "55119001bfab426998aa9cb5fb21051e": {
          "model_module": "@jupyter-widgets/controls",
          "model_name": "VBoxModel",
          "model_module_version": "1.5.0",
          "state": {
            "_dom_classes": [],
            "_model_module": "@jupyter-widgets/controls",
            "_model_module_version": "1.5.0",
            "_model_name": "VBoxModel",
            "_view_count": null,
            "_view_module": "@jupyter-widgets/controls",
            "_view_module_version": "1.5.0",
            "_view_name": "VBoxView",
            "box_style": "",
            "children": [
              "IPY_MODEL_679b44eaced24712821c578557b6d3bd",
              "IPY_MODEL_79e05e3d4ff1435bb73f3fa154048e5a"
            ],
            "layout": "IPY_MODEL_28520fa6043f435b8761d0153695ea46"
          }
        },
        "679b44eaced24712821c578557b6d3bd": {
          "model_module": "@jupyter-widgets/controls",
          "model_name": "LabelModel",
          "model_module_version": "1.5.0",
          "state": {
            "_dom_classes": [],
            "_model_module": "@jupyter-widgets/controls",
            "_model_module_version": "1.5.0",
            "_model_name": "LabelModel",
            "_view_count": null,
            "_view_module": "@jupyter-widgets/controls",
            "_view_module_version": "1.5.0",
            "_view_name": "LabelView",
            "description": "",
            "description_tooltip": null,
            "layout": "IPY_MODEL_a540112012d84fe69b1757be2141c4fa",
            "placeholder": "​",
            "style": "IPY_MODEL_db4f1dcddf8340479214af7732d239d5",
            "value": "0.344 MB of 0.344 MB uploaded (0.000 MB deduped)\r"
          }
        },
        "79e05e3d4ff1435bb73f3fa154048e5a": {
          "model_module": "@jupyter-widgets/controls",
          "model_name": "FloatProgressModel",
          "model_module_version": "1.5.0",
          "state": {
            "_dom_classes": [],
            "_model_module": "@jupyter-widgets/controls",
            "_model_module_version": "1.5.0",
            "_model_name": "FloatProgressModel",
            "_view_count": null,
            "_view_module": "@jupyter-widgets/controls",
            "_view_module_version": "1.5.0",
            "_view_name": "ProgressView",
            "bar_style": "",
            "description": "",
            "description_tooltip": null,
            "layout": "IPY_MODEL_64e62c37105e4ad4953a960815025435",
            "max": 1,
            "min": 0,
            "orientation": "horizontal",
            "style": "IPY_MODEL_c7549b4d1e5f4d8f88d8b5d7dc71ba99",
            "value": 1
          }
        },
        "28520fa6043f435b8761d0153695ea46": {
          "model_module": "@jupyter-widgets/base",
          "model_name": "LayoutModel",
          "model_module_version": "1.2.0",
          "state": {
            "_model_module": "@jupyter-widgets/base",
            "_model_module_version": "1.2.0",
            "_model_name": "LayoutModel",
            "_view_count": null,
            "_view_module": "@jupyter-widgets/base",
            "_view_module_version": "1.2.0",
            "_view_name": "LayoutView",
            "align_content": null,
            "align_items": null,
            "align_self": null,
            "border": null,
            "bottom": null,
            "display": null,
            "flex": null,
            "flex_flow": null,
            "grid_area": null,
            "grid_auto_columns": null,
            "grid_auto_flow": null,
            "grid_auto_rows": null,
            "grid_column": null,
            "grid_gap": null,
            "grid_row": null,
            "grid_template_areas": null,
            "grid_template_columns": null,
            "grid_template_rows": null,
            "height": null,
            "justify_content": null,
            "justify_items": null,
            "left": null,
            "margin": null,
            "max_height": null,
            "max_width": null,
            "min_height": null,
            "min_width": null,
            "object_fit": null,
            "object_position": null,
            "order": null,
            "overflow": null,
            "overflow_x": null,
            "overflow_y": null,
            "padding": null,
            "right": null,
            "top": null,
            "visibility": null,
            "width": null
          }
        },
        "a540112012d84fe69b1757be2141c4fa": {
          "model_module": "@jupyter-widgets/base",
          "model_name": "LayoutModel",
          "model_module_version": "1.2.0",
          "state": {
            "_model_module": "@jupyter-widgets/base",
            "_model_module_version": "1.2.0",
            "_model_name": "LayoutModel",
            "_view_count": null,
            "_view_module": "@jupyter-widgets/base",
            "_view_module_version": "1.2.0",
            "_view_name": "LayoutView",
            "align_content": null,
            "align_items": null,
            "align_self": null,
            "border": null,
            "bottom": null,
            "display": null,
            "flex": null,
            "flex_flow": null,
            "grid_area": null,
            "grid_auto_columns": null,
            "grid_auto_flow": null,
            "grid_auto_rows": null,
            "grid_column": null,
            "grid_gap": null,
            "grid_row": null,
            "grid_template_areas": null,
            "grid_template_columns": null,
            "grid_template_rows": null,
            "height": null,
            "justify_content": null,
            "justify_items": null,
            "left": null,
            "margin": null,
            "max_height": null,
            "max_width": null,
            "min_height": null,
            "min_width": null,
            "object_fit": null,
            "object_position": null,
            "order": null,
            "overflow": null,
            "overflow_x": null,
            "overflow_y": null,
            "padding": null,
            "right": null,
            "top": null,
            "visibility": null,
            "width": null
          }
        },
        "db4f1dcddf8340479214af7732d239d5": {
          "model_module": "@jupyter-widgets/controls",
          "model_name": "DescriptionStyleModel",
          "model_module_version": "1.5.0",
          "state": {
            "_model_module": "@jupyter-widgets/controls",
            "_model_module_version": "1.5.0",
            "_model_name": "DescriptionStyleModel",
            "_view_count": null,
            "_view_module": "@jupyter-widgets/base",
            "_view_module_version": "1.2.0",
            "_view_name": "StyleView",
            "description_width": ""
          }
        },
        "64e62c37105e4ad4953a960815025435": {
          "model_module": "@jupyter-widgets/base",
          "model_name": "LayoutModel",
          "model_module_version": "1.2.0",
          "state": {
            "_model_module": "@jupyter-widgets/base",
            "_model_module_version": "1.2.0",
            "_model_name": "LayoutModel",
            "_view_count": null,
            "_view_module": "@jupyter-widgets/base",
            "_view_module_version": "1.2.0",
            "_view_name": "LayoutView",
            "align_content": null,
            "align_items": null,
            "align_self": null,
            "border": null,
            "bottom": null,
            "display": null,
            "flex": null,
            "flex_flow": null,
            "grid_area": null,
            "grid_auto_columns": null,
            "grid_auto_flow": null,
            "grid_auto_rows": null,
            "grid_column": null,
            "grid_gap": null,
            "grid_row": null,
            "grid_template_areas": null,
            "grid_template_columns": null,
            "grid_template_rows": null,
            "height": null,
            "justify_content": null,
            "justify_items": null,
            "left": null,
            "margin": null,
            "max_height": null,
            "max_width": null,
            "min_height": null,
            "min_width": null,
            "object_fit": null,
            "object_position": null,
            "order": null,
            "overflow": null,
            "overflow_x": null,
            "overflow_y": null,
            "padding": null,
            "right": null,
            "top": null,
            "visibility": null,
            "width": null
          }
        },
        "c7549b4d1e5f4d8f88d8b5d7dc71ba99": {
          "model_module": "@jupyter-widgets/controls",
          "model_name": "ProgressStyleModel",
          "model_module_version": "1.5.0",
          "state": {
            "_model_module": "@jupyter-widgets/controls",
            "_model_module_version": "1.5.0",
            "_model_name": "ProgressStyleModel",
            "_view_count": null,
            "_view_module": "@jupyter-widgets/base",
            "_view_module_version": "1.2.0",
            "_view_name": "StyleView",
            "bar_color": null,
            "description_width": ""
          }
        }
      }
    }
  },
  "nbformat": 4,
  "nbformat_minor": 0
}